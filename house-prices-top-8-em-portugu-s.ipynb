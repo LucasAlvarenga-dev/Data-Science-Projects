{
 "cells": [
  {
   "cell_type": "markdown",
   "metadata": {
    "papermill": {
     "duration": 0.021278,
     "end_time": "2020-08-15T12:50:41.010050",
     "exception": false,
     "start_time": "2020-08-15T12:50:40.988772",
     "status": "completed"
    },
    "tags": []
   },
   "source": [
    "# Informações iniciais\n",
    "Neste notebook é apresentado uma resolução do desafio \"House Prices: Advanced Regression Techniques\". Como modelo de aprendizado de maquina foram utilizados: \n",
    "* LGBMRegressor\n",
    "* XGBRegressor\n",
    "* GradientBoostingRegressor\n",
    "\n",
    "Link para o download da base de dados: https://www.kaggle.com/c/house-prices-advanced-regression-techniques/data"
   ]
  },
  {
   "cell_type": "markdown",
   "metadata": {
    "papermill": {
     "duration": 0.014486,
     "end_time": "2020-08-15T12:50:41.040144",
     "exception": false,
     "start_time": "2020-08-15T12:50:41.025658",
     "status": "completed"
    },
    "tags": []
   },
   "source": [
    "# Importações"
   ]
  },
  {
   "cell_type": "code",
   "execution_count": 1,
   "metadata": {
    "execution": {
     "iopub.execute_input": "2020-08-15T12:50:41.085528Z",
     "iopub.status.busy": "2020-08-15T12:50:41.084661Z",
     "iopub.status.idle": "2020-08-15T12:50:44.199668Z",
     "shell.execute_reply": "2020-08-15T12:50:44.198853Z"
    },
    "papermill": {
     "duration": 3.144592,
     "end_time": "2020-08-15T12:50:44.199840",
     "exception": false,
     "start_time": "2020-08-15T12:50:41.055248",
     "status": "completed"
    },
    "tags": []
   },
   "outputs": [],
   "source": [
    "import math # Matematica\n",
    "import pandas as pd # Pre-processamento\n",
    "import numpy as np # Algebra linear\n",
    "import seaborn as sns\n",
    "import matplotlib.pyplot as plt\n",
    "%matplotlib inline\n",
    "\n",
    "import sklearn.metrics as metrics\n",
    "from scipy import stats\n",
    "from scipy.stats import norm, skew\n",
    "from sklearn.model_selection import train_test_split\n",
    "from sklearn.ensemble import GradientBoostingRegressor\n",
    "from lightgbm import LGBMRegressor\n",
    "from xgboost import XGBRegressor\n",
    "\n",
    "import warnings\n",
    "def ignore_warn(*args, **kwargs):\n",
    "    pass\n",
    "warnings.warn = ignore_warn # ignora alguns avisos irritantes(das bibliotescas sklearn e seaborn)"
   ]
  },
  {
   "cell_type": "code",
   "execution_count": 2,
   "metadata": {
    "execution": {
     "iopub.execute_input": "2020-08-15T12:50:44.238521Z",
     "iopub.status.busy": "2020-08-15T12:50:44.237225Z",
     "iopub.status.idle": "2020-08-15T12:50:44.325937Z",
     "shell.execute_reply": "2020-08-15T12:50:44.325176Z"
    },
    "papermill": {
     "duration": 0.11132,
     "end_time": "2020-08-15T12:50:44.326114",
     "exception": false,
     "start_time": "2020-08-15T12:50:44.214794",
     "status": "completed"
    },
    "tags": []
   },
   "outputs": [],
   "source": [
    "# Lendo a base de dados\n",
    "train = pd.read_csv('/kaggle/input/house-prices-advanced-regression-techniques/train.csv')\n",
    "test = pd.read_csv('/kaggle/input/house-prices-advanced-regression-techniques/test.csv')"
   ]
  },
  {
   "cell_type": "code",
   "execution_count": 3,
   "metadata": {
    "execution": {
     "iopub.execute_input": "2020-08-15T12:50:44.369190Z",
     "iopub.status.busy": "2020-08-15T12:50:44.368131Z",
     "iopub.status.idle": "2020-08-15T12:50:44.425012Z",
     "shell.execute_reply": "2020-08-15T12:50:44.425826Z"
    },
    "papermill": {
     "duration": 0.084823,
     "end_time": "2020-08-15T12:50:44.426021",
     "exception": false,
     "start_time": "2020-08-15T12:50:44.341198",
     "status": "completed"
    },
    "tags": []
   },
   "outputs": [
    {
     "data": {
      "text/html": [
       "<div>\n",
       "<style scoped>\n",
       "    .dataframe tbody tr th:only-of-type {\n",
       "        vertical-align: middle;\n",
       "    }\n",
       "\n",
       "    .dataframe tbody tr th {\n",
       "        vertical-align: top;\n",
       "    }\n",
       "\n",
       "    .dataframe thead th {\n",
       "        text-align: right;\n",
       "    }\n",
       "</style>\n",
       "<table border=\"1\" class=\"dataframe\">\n",
       "  <thead>\n",
       "    <tr style=\"text-align: right;\">\n",
       "      <th></th>\n",
       "      <th>Id</th>\n",
       "      <th>MSSubClass</th>\n",
       "      <th>MSZoning</th>\n",
       "      <th>LotFrontage</th>\n",
       "      <th>LotArea</th>\n",
       "      <th>Street</th>\n",
       "      <th>Alley</th>\n",
       "      <th>LotShape</th>\n",
       "      <th>LandContour</th>\n",
       "      <th>Utilities</th>\n",
       "      <th>...</th>\n",
       "      <th>PoolArea</th>\n",
       "      <th>PoolQC</th>\n",
       "      <th>Fence</th>\n",
       "      <th>MiscFeature</th>\n",
       "      <th>MiscVal</th>\n",
       "      <th>MoSold</th>\n",
       "      <th>YrSold</th>\n",
       "      <th>SaleType</th>\n",
       "      <th>SaleCondition</th>\n",
       "      <th>SalePrice</th>\n",
       "    </tr>\n",
       "  </thead>\n",
       "  <tbody>\n",
       "    <tr>\n",
       "      <th>0</th>\n",
       "      <td>1</td>\n",
       "      <td>60</td>\n",
       "      <td>RL</td>\n",
       "      <td>65.0</td>\n",
       "      <td>8450</td>\n",
       "      <td>Pave</td>\n",
       "      <td>NaN</td>\n",
       "      <td>Reg</td>\n",
       "      <td>Lvl</td>\n",
       "      <td>AllPub</td>\n",
       "      <td>...</td>\n",
       "      <td>0</td>\n",
       "      <td>NaN</td>\n",
       "      <td>NaN</td>\n",
       "      <td>NaN</td>\n",
       "      <td>0</td>\n",
       "      <td>2</td>\n",
       "      <td>2008</td>\n",
       "      <td>WD</td>\n",
       "      <td>Normal</td>\n",
       "      <td>208500</td>\n",
       "    </tr>\n",
       "    <tr>\n",
       "      <th>1</th>\n",
       "      <td>2</td>\n",
       "      <td>20</td>\n",
       "      <td>RL</td>\n",
       "      <td>80.0</td>\n",
       "      <td>9600</td>\n",
       "      <td>Pave</td>\n",
       "      <td>NaN</td>\n",
       "      <td>Reg</td>\n",
       "      <td>Lvl</td>\n",
       "      <td>AllPub</td>\n",
       "      <td>...</td>\n",
       "      <td>0</td>\n",
       "      <td>NaN</td>\n",
       "      <td>NaN</td>\n",
       "      <td>NaN</td>\n",
       "      <td>0</td>\n",
       "      <td>5</td>\n",
       "      <td>2007</td>\n",
       "      <td>WD</td>\n",
       "      <td>Normal</td>\n",
       "      <td>181500</td>\n",
       "    </tr>\n",
       "    <tr>\n",
       "      <th>2</th>\n",
       "      <td>3</td>\n",
       "      <td>60</td>\n",
       "      <td>RL</td>\n",
       "      <td>68.0</td>\n",
       "      <td>11250</td>\n",
       "      <td>Pave</td>\n",
       "      <td>NaN</td>\n",
       "      <td>IR1</td>\n",
       "      <td>Lvl</td>\n",
       "      <td>AllPub</td>\n",
       "      <td>...</td>\n",
       "      <td>0</td>\n",
       "      <td>NaN</td>\n",
       "      <td>NaN</td>\n",
       "      <td>NaN</td>\n",
       "      <td>0</td>\n",
       "      <td>9</td>\n",
       "      <td>2008</td>\n",
       "      <td>WD</td>\n",
       "      <td>Normal</td>\n",
       "      <td>223500</td>\n",
       "    </tr>\n",
       "    <tr>\n",
       "      <th>3</th>\n",
       "      <td>4</td>\n",
       "      <td>70</td>\n",
       "      <td>RL</td>\n",
       "      <td>60.0</td>\n",
       "      <td>9550</td>\n",
       "      <td>Pave</td>\n",
       "      <td>NaN</td>\n",
       "      <td>IR1</td>\n",
       "      <td>Lvl</td>\n",
       "      <td>AllPub</td>\n",
       "      <td>...</td>\n",
       "      <td>0</td>\n",
       "      <td>NaN</td>\n",
       "      <td>NaN</td>\n",
       "      <td>NaN</td>\n",
       "      <td>0</td>\n",
       "      <td>2</td>\n",
       "      <td>2006</td>\n",
       "      <td>WD</td>\n",
       "      <td>Abnorml</td>\n",
       "      <td>140000</td>\n",
       "    </tr>\n",
       "    <tr>\n",
       "      <th>4</th>\n",
       "      <td>5</td>\n",
       "      <td>60</td>\n",
       "      <td>RL</td>\n",
       "      <td>84.0</td>\n",
       "      <td>14260</td>\n",
       "      <td>Pave</td>\n",
       "      <td>NaN</td>\n",
       "      <td>IR1</td>\n",
       "      <td>Lvl</td>\n",
       "      <td>AllPub</td>\n",
       "      <td>...</td>\n",
       "      <td>0</td>\n",
       "      <td>NaN</td>\n",
       "      <td>NaN</td>\n",
       "      <td>NaN</td>\n",
       "      <td>0</td>\n",
       "      <td>12</td>\n",
       "      <td>2008</td>\n",
       "      <td>WD</td>\n",
       "      <td>Normal</td>\n",
       "      <td>250000</td>\n",
       "    </tr>\n",
       "    <tr>\n",
       "      <th>...</th>\n",
       "      <td>...</td>\n",
       "      <td>...</td>\n",
       "      <td>...</td>\n",
       "      <td>...</td>\n",
       "      <td>...</td>\n",
       "      <td>...</td>\n",
       "      <td>...</td>\n",
       "      <td>...</td>\n",
       "      <td>...</td>\n",
       "      <td>...</td>\n",
       "      <td>...</td>\n",
       "      <td>...</td>\n",
       "      <td>...</td>\n",
       "      <td>...</td>\n",
       "      <td>...</td>\n",
       "      <td>...</td>\n",
       "      <td>...</td>\n",
       "      <td>...</td>\n",
       "      <td>...</td>\n",
       "      <td>...</td>\n",
       "      <td>...</td>\n",
       "    </tr>\n",
       "    <tr>\n",
       "      <th>1455</th>\n",
       "      <td>1456</td>\n",
       "      <td>60</td>\n",
       "      <td>RL</td>\n",
       "      <td>62.0</td>\n",
       "      <td>7917</td>\n",
       "      <td>Pave</td>\n",
       "      <td>NaN</td>\n",
       "      <td>Reg</td>\n",
       "      <td>Lvl</td>\n",
       "      <td>AllPub</td>\n",
       "      <td>...</td>\n",
       "      <td>0</td>\n",
       "      <td>NaN</td>\n",
       "      <td>NaN</td>\n",
       "      <td>NaN</td>\n",
       "      <td>0</td>\n",
       "      <td>8</td>\n",
       "      <td>2007</td>\n",
       "      <td>WD</td>\n",
       "      <td>Normal</td>\n",
       "      <td>175000</td>\n",
       "    </tr>\n",
       "    <tr>\n",
       "      <th>1456</th>\n",
       "      <td>1457</td>\n",
       "      <td>20</td>\n",
       "      <td>RL</td>\n",
       "      <td>85.0</td>\n",
       "      <td>13175</td>\n",
       "      <td>Pave</td>\n",
       "      <td>NaN</td>\n",
       "      <td>Reg</td>\n",
       "      <td>Lvl</td>\n",
       "      <td>AllPub</td>\n",
       "      <td>...</td>\n",
       "      <td>0</td>\n",
       "      <td>NaN</td>\n",
       "      <td>MnPrv</td>\n",
       "      <td>NaN</td>\n",
       "      <td>0</td>\n",
       "      <td>2</td>\n",
       "      <td>2010</td>\n",
       "      <td>WD</td>\n",
       "      <td>Normal</td>\n",
       "      <td>210000</td>\n",
       "    </tr>\n",
       "    <tr>\n",
       "      <th>1457</th>\n",
       "      <td>1458</td>\n",
       "      <td>70</td>\n",
       "      <td>RL</td>\n",
       "      <td>66.0</td>\n",
       "      <td>9042</td>\n",
       "      <td>Pave</td>\n",
       "      <td>NaN</td>\n",
       "      <td>Reg</td>\n",
       "      <td>Lvl</td>\n",
       "      <td>AllPub</td>\n",
       "      <td>...</td>\n",
       "      <td>0</td>\n",
       "      <td>NaN</td>\n",
       "      <td>GdPrv</td>\n",
       "      <td>Shed</td>\n",
       "      <td>2500</td>\n",
       "      <td>5</td>\n",
       "      <td>2010</td>\n",
       "      <td>WD</td>\n",
       "      <td>Normal</td>\n",
       "      <td>266500</td>\n",
       "    </tr>\n",
       "    <tr>\n",
       "      <th>1458</th>\n",
       "      <td>1459</td>\n",
       "      <td>20</td>\n",
       "      <td>RL</td>\n",
       "      <td>68.0</td>\n",
       "      <td>9717</td>\n",
       "      <td>Pave</td>\n",
       "      <td>NaN</td>\n",
       "      <td>Reg</td>\n",
       "      <td>Lvl</td>\n",
       "      <td>AllPub</td>\n",
       "      <td>...</td>\n",
       "      <td>0</td>\n",
       "      <td>NaN</td>\n",
       "      <td>NaN</td>\n",
       "      <td>NaN</td>\n",
       "      <td>0</td>\n",
       "      <td>4</td>\n",
       "      <td>2010</td>\n",
       "      <td>WD</td>\n",
       "      <td>Normal</td>\n",
       "      <td>142125</td>\n",
       "    </tr>\n",
       "    <tr>\n",
       "      <th>1459</th>\n",
       "      <td>1460</td>\n",
       "      <td>20</td>\n",
       "      <td>RL</td>\n",
       "      <td>75.0</td>\n",
       "      <td>9937</td>\n",
       "      <td>Pave</td>\n",
       "      <td>NaN</td>\n",
       "      <td>Reg</td>\n",
       "      <td>Lvl</td>\n",
       "      <td>AllPub</td>\n",
       "      <td>...</td>\n",
       "      <td>0</td>\n",
       "      <td>NaN</td>\n",
       "      <td>NaN</td>\n",
       "      <td>NaN</td>\n",
       "      <td>0</td>\n",
       "      <td>6</td>\n",
       "      <td>2008</td>\n",
       "      <td>WD</td>\n",
       "      <td>Normal</td>\n",
       "      <td>147500</td>\n",
       "    </tr>\n",
       "  </tbody>\n",
       "</table>\n",
       "<p>1460 rows × 81 columns</p>\n",
       "</div>"
      ],
      "text/plain": [
       "        Id  MSSubClass MSZoning  LotFrontage  LotArea Street Alley LotShape  \\\n",
       "0        1          60       RL         65.0     8450   Pave   NaN      Reg   \n",
       "1        2          20       RL         80.0     9600   Pave   NaN      Reg   \n",
       "2        3          60       RL         68.0    11250   Pave   NaN      IR1   \n",
       "3        4          70       RL         60.0     9550   Pave   NaN      IR1   \n",
       "4        5          60       RL         84.0    14260   Pave   NaN      IR1   \n",
       "...    ...         ...      ...          ...      ...    ...   ...      ...   \n",
       "1455  1456          60       RL         62.0     7917   Pave   NaN      Reg   \n",
       "1456  1457          20       RL         85.0    13175   Pave   NaN      Reg   \n",
       "1457  1458          70       RL         66.0     9042   Pave   NaN      Reg   \n",
       "1458  1459          20       RL         68.0     9717   Pave   NaN      Reg   \n",
       "1459  1460          20       RL         75.0     9937   Pave   NaN      Reg   \n",
       "\n",
       "     LandContour Utilities  ... PoolArea PoolQC  Fence MiscFeature MiscVal  \\\n",
       "0            Lvl    AllPub  ...        0    NaN    NaN         NaN       0   \n",
       "1            Lvl    AllPub  ...        0    NaN    NaN         NaN       0   \n",
       "2            Lvl    AllPub  ...        0    NaN    NaN         NaN       0   \n",
       "3            Lvl    AllPub  ...        0    NaN    NaN         NaN       0   \n",
       "4            Lvl    AllPub  ...        0    NaN    NaN         NaN       0   \n",
       "...          ...       ...  ...      ...    ...    ...         ...     ...   \n",
       "1455         Lvl    AllPub  ...        0    NaN    NaN         NaN       0   \n",
       "1456         Lvl    AllPub  ...        0    NaN  MnPrv         NaN       0   \n",
       "1457         Lvl    AllPub  ...        0    NaN  GdPrv        Shed    2500   \n",
       "1458         Lvl    AllPub  ...        0    NaN    NaN         NaN       0   \n",
       "1459         Lvl    AllPub  ...        0    NaN    NaN         NaN       0   \n",
       "\n",
       "     MoSold YrSold  SaleType  SaleCondition  SalePrice  \n",
       "0         2   2008        WD         Normal     208500  \n",
       "1         5   2007        WD         Normal     181500  \n",
       "2         9   2008        WD         Normal     223500  \n",
       "3         2   2006        WD        Abnorml     140000  \n",
       "4        12   2008        WD         Normal     250000  \n",
       "...     ...    ...       ...            ...        ...  \n",
       "1455      8   2007        WD         Normal     175000  \n",
       "1456      2   2010        WD         Normal     210000  \n",
       "1457      5   2010        WD         Normal     266500  \n",
       "1458      4   2010        WD         Normal     142125  \n",
       "1459      6   2008        WD         Normal     147500  \n",
       "\n",
       "[1460 rows x 81 columns]"
      ]
     },
     "execution_count": 3,
     "metadata": {},
     "output_type": "execute_result"
    }
   ],
   "source": [
    "train"
   ]
  },
  {
   "cell_type": "code",
   "execution_count": 4,
   "metadata": {
    "execution": {
     "iopub.execute_input": "2020-08-15T12:50:44.474883Z",
     "iopub.status.busy": "2020-08-15T12:50:44.473935Z",
     "iopub.status.idle": "2020-08-15T12:50:44.532453Z",
     "shell.execute_reply": "2020-08-15T12:50:44.531653Z"
    },
    "papermill": {
     "duration": 0.089541,
     "end_time": "2020-08-15T12:50:44.532623",
     "exception": false,
     "start_time": "2020-08-15T12:50:44.443082",
     "status": "completed"
    },
    "tags": []
   },
   "outputs": [
    {
     "data": {
      "text/html": [
       "<div>\n",
       "<style scoped>\n",
       "    .dataframe tbody tr th:only-of-type {\n",
       "        vertical-align: middle;\n",
       "    }\n",
       "\n",
       "    .dataframe tbody tr th {\n",
       "        vertical-align: top;\n",
       "    }\n",
       "\n",
       "    .dataframe thead th {\n",
       "        text-align: right;\n",
       "    }\n",
       "</style>\n",
       "<table border=\"1\" class=\"dataframe\">\n",
       "  <thead>\n",
       "    <tr style=\"text-align: right;\">\n",
       "      <th></th>\n",
       "      <th>Id</th>\n",
       "      <th>MSSubClass</th>\n",
       "      <th>MSZoning</th>\n",
       "      <th>LotFrontage</th>\n",
       "      <th>LotArea</th>\n",
       "      <th>Street</th>\n",
       "      <th>Alley</th>\n",
       "      <th>LotShape</th>\n",
       "      <th>LandContour</th>\n",
       "      <th>Utilities</th>\n",
       "      <th>...</th>\n",
       "      <th>ScreenPorch</th>\n",
       "      <th>PoolArea</th>\n",
       "      <th>PoolQC</th>\n",
       "      <th>Fence</th>\n",
       "      <th>MiscFeature</th>\n",
       "      <th>MiscVal</th>\n",
       "      <th>MoSold</th>\n",
       "      <th>YrSold</th>\n",
       "      <th>SaleType</th>\n",
       "      <th>SaleCondition</th>\n",
       "    </tr>\n",
       "  </thead>\n",
       "  <tbody>\n",
       "    <tr>\n",
       "      <th>0</th>\n",
       "      <td>1461</td>\n",
       "      <td>20</td>\n",
       "      <td>RH</td>\n",
       "      <td>80.0</td>\n",
       "      <td>11622</td>\n",
       "      <td>Pave</td>\n",
       "      <td>NaN</td>\n",
       "      <td>Reg</td>\n",
       "      <td>Lvl</td>\n",
       "      <td>AllPub</td>\n",
       "      <td>...</td>\n",
       "      <td>120</td>\n",
       "      <td>0</td>\n",
       "      <td>NaN</td>\n",
       "      <td>MnPrv</td>\n",
       "      <td>NaN</td>\n",
       "      <td>0</td>\n",
       "      <td>6</td>\n",
       "      <td>2010</td>\n",
       "      <td>WD</td>\n",
       "      <td>Normal</td>\n",
       "    </tr>\n",
       "    <tr>\n",
       "      <th>1</th>\n",
       "      <td>1462</td>\n",
       "      <td>20</td>\n",
       "      <td>RL</td>\n",
       "      <td>81.0</td>\n",
       "      <td>14267</td>\n",
       "      <td>Pave</td>\n",
       "      <td>NaN</td>\n",
       "      <td>IR1</td>\n",
       "      <td>Lvl</td>\n",
       "      <td>AllPub</td>\n",
       "      <td>...</td>\n",
       "      <td>0</td>\n",
       "      <td>0</td>\n",
       "      <td>NaN</td>\n",
       "      <td>NaN</td>\n",
       "      <td>Gar2</td>\n",
       "      <td>12500</td>\n",
       "      <td>6</td>\n",
       "      <td>2010</td>\n",
       "      <td>WD</td>\n",
       "      <td>Normal</td>\n",
       "    </tr>\n",
       "    <tr>\n",
       "      <th>2</th>\n",
       "      <td>1463</td>\n",
       "      <td>60</td>\n",
       "      <td>RL</td>\n",
       "      <td>74.0</td>\n",
       "      <td>13830</td>\n",
       "      <td>Pave</td>\n",
       "      <td>NaN</td>\n",
       "      <td>IR1</td>\n",
       "      <td>Lvl</td>\n",
       "      <td>AllPub</td>\n",
       "      <td>...</td>\n",
       "      <td>0</td>\n",
       "      <td>0</td>\n",
       "      <td>NaN</td>\n",
       "      <td>MnPrv</td>\n",
       "      <td>NaN</td>\n",
       "      <td>0</td>\n",
       "      <td>3</td>\n",
       "      <td>2010</td>\n",
       "      <td>WD</td>\n",
       "      <td>Normal</td>\n",
       "    </tr>\n",
       "    <tr>\n",
       "      <th>3</th>\n",
       "      <td>1464</td>\n",
       "      <td>60</td>\n",
       "      <td>RL</td>\n",
       "      <td>78.0</td>\n",
       "      <td>9978</td>\n",
       "      <td>Pave</td>\n",
       "      <td>NaN</td>\n",
       "      <td>IR1</td>\n",
       "      <td>Lvl</td>\n",
       "      <td>AllPub</td>\n",
       "      <td>...</td>\n",
       "      <td>0</td>\n",
       "      <td>0</td>\n",
       "      <td>NaN</td>\n",
       "      <td>NaN</td>\n",
       "      <td>NaN</td>\n",
       "      <td>0</td>\n",
       "      <td>6</td>\n",
       "      <td>2010</td>\n",
       "      <td>WD</td>\n",
       "      <td>Normal</td>\n",
       "    </tr>\n",
       "    <tr>\n",
       "      <th>4</th>\n",
       "      <td>1465</td>\n",
       "      <td>120</td>\n",
       "      <td>RL</td>\n",
       "      <td>43.0</td>\n",
       "      <td>5005</td>\n",
       "      <td>Pave</td>\n",
       "      <td>NaN</td>\n",
       "      <td>IR1</td>\n",
       "      <td>HLS</td>\n",
       "      <td>AllPub</td>\n",
       "      <td>...</td>\n",
       "      <td>144</td>\n",
       "      <td>0</td>\n",
       "      <td>NaN</td>\n",
       "      <td>NaN</td>\n",
       "      <td>NaN</td>\n",
       "      <td>0</td>\n",
       "      <td>1</td>\n",
       "      <td>2010</td>\n",
       "      <td>WD</td>\n",
       "      <td>Normal</td>\n",
       "    </tr>\n",
       "    <tr>\n",
       "      <th>...</th>\n",
       "      <td>...</td>\n",
       "      <td>...</td>\n",
       "      <td>...</td>\n",
       "      <td>...</td>\n",
       "      <td>...</td>\n",
       "      <td>...</td>\n",
       "      <td>...</td>\n",
       "      <td>...</td>\n",
       "      <td>...</td>\n",
       "      <td>...</td>\n",
       "      <td>...</td>\n",
       "      <td>...</td>\n",
       "      <td>...</td>\n",
       "      <td>...</td>\n",
       "      <td>...</td>\n",
       "      <td>...</td>\n",
       "      <td>...</td>\n",
       "      <td>...</td>\n",
       "      <td>...</td>\n",
       "      <td>...</td>\n",
       "      <td>...</td>\n",
       "    </tr>\n",
       "    <tr>\n",
       "      <th>1454</th>\n",
       "      <td>2915</td>\n",
       "      <td>160</td>\n",
       "      <td>RM</td>\n",
       "      <td>21.0</td>\n",
       "      <td>1936</td>\n",
       "      <td>Pave</td>\n",
       "      <td>NaN</td>\n",
       "      <td>Reg</td>\n",
       "      <td>Lvl</td>\n",
       "      <td>AllPub</td>\n",
       "      <td>...</td>\n",
       "      <td>0</td>\n",
       "      <td>0</td>\n",
       "      <td>NaN</td>\n",
       "      <td>NaN</td>\n",
       "      <td>NaN</td>\n",
       "      <td>0</td>\n",
       "      <td>6</td>\n",
       "      <td>2006</td>\n",
       "      <td>WD</td>\n",
       "      <td>Normal</td>\n",
       "    </tr>\n",
       "    <tr>\n",
       "      <th>1455</th>\n",
       "      <td>2916</td>\n",
       "      <td>160</td>\n",
       "      <td>RM</td>\n",
       "      <td>21.0</td>\n",
       "      <td>1894</td>\n",
       "      <td>Pave</td>\n",
       "      <td>NaN</td>\n",
       "      <td>Reg</td>\n",
       "      <td>Lvl</td>\n",
       "      <td>AllPub</td>\n",
       "      <td>...</td>\n",
       "      <td>0</td>\n",
       "      <td>0</td>\n",
       "      <td>NaN</td>\n",
       "      <td>NaN</td>\n",
       "      <td>NaN</td>\n",
       "      <td>0</td>\n",
       "      <td>4</td>\n",
       "      <td>2006</td>\n",
       "      <td>WD</td>\n",
       "      <td>Abnorml</td>\n",
       "    </tr>\n",
       "    <tr>\n",
       "      <th>1456</th>\n",
       "      <td>2917</td>\n",
       "      <td>20</td>\n",
       "      <td>RL</td>\n",
       "      <td>160.0</td>\n",
       "      <td>20000</td>\n",
       "      <td>Pave</td>\n",
       "      <td>NaN</td>\n",
       "      <td>Reg</td>\n",
       "      <td>Lvl</td>\n",
       "      <td>AllPub</td>\n",
       "      <td>...</td>\n",
       "      <td>0</td>\n",
       "      <td>0</td>\n",
       "      <td>NaN</td>\n",
       "      <td>NaN</td>\n",
       "      <td>NaN</td>\n",
       "      <td>0</td>\n",
       "      <td>9</td>\n",
       "      <td>2006</td>\n",
       "      <td>WD</td>\n",
       "      <td>Abnorml</td>\n",
       "    </tr>\n",
       "    <tr>\n",
       "      <th>1457</th>\n",
       "      <td>2918</td>\n",
       "      <td>85</td>\n",
       "      <td>RL</td>\n",
       "      <td>62.0</td>\n",
       "      <td>10441</td>\n",
       "      <td>Pave</td>\n",
       "      <td>NaN</td>\n",
       "      <td>Reg</td>\n",
       "      <td>Lvl</td>\n",
       "      <td>AllPub</td>\n",
       "      <td>...</td>\n",
       "      <td>0</td>\n",
       "      <td>0</td>\n",
       "      <td>NaN</td>\n",
       "      <td>MnPrv</td>\n",
       "      <td>Shed</td>\n",
       "      <td>700</td>\n",
       "      <td>7</td>\n",
       "      <td>2006</td>\n",
       "      <td>WD</td>\n",
       "      <td>Normal</td>\n",
       "    </tr>\n",
       "    <tr>\n",
       "      <th>1458</th>\n",
       "      <td>2919</td>\n",
       "      <td>60</td>\n",
       "      <td>RL</td>\n",
       "      <td>74.0</td>\n",
       "      <td>9627</td>\n",
       "      <td>Pave</td>\n",
       "      <td>NaN</td>\n",
       "      <td>Reg</td>\n",
       "      <td>Lvl</td>\n",
       "      <td>AllPub</td>\n",
       "      <td>...</td>\n",
       "      <td>0</td>\n",
       "      <td>0</td>\n",
       "      <td>NaN</td>\n",
       "      <td>NaN</td>\n",
       "      <td>NaN</td>\n",
       "      <td>0</td>\n",
       "      <td>11</td>\n",
       "      <td>2006</td>\n",
       "      <td>WD</td>\n",
       "      <td>Normal</td>\n",
       "    </tr>\n",
       "  </tbody>\n",
       "</table>\n",
       "<p>1459 rows × 80 columns</p>\n",
       "</div>"
      ],
      "text/plain": [
       "        Id  MSSubClass MSZoning  LotFrontage  LotArea Street Alley LotShape  \\\n",
       "0     1461          20       RH         80.0    11622   Pave   NaN      Reg   \n",
       "1     1462          20       RL         81.0    14267   Pave   NaN      IR1   \n",
       "2     1463          60       RL         74.0    13830   Pave   NaN      IR1   \n",
       "3     1464          60       RL         78.0     9978   Pave   NaN      IR1   \n",
       "4     1465         120       RL         43.0     5005   Pave   NaN      IR1   \n",
       "...    ...         ...      ...          ...      ...    ...   ...      ...   \n",
       "1454  2915         160       RM         21.0     1936   Pave   NaN      Reg   \n",
       "1455  2916         160       RM         21.0     1894   Pave   NaN      Reg   \n",
       "1456  2917          20       RL        160.0    20000   Pave   NaN      Reg   \n",
       "1457  2918          85       RL         62.0    10441   Pave   NaN      Reg   \n",
       "1458  2919          60       RL         74.0     9627   Pave   NaN      Reg   \n",
       "\n",
       "     LandContour Utilities  ... ScreenPorch PoolArea PoolQC  Fence  \\\n",
       "0            Lvl    AllPub  ...         120        0    NaN  MnPrv   \n",
       "1            Lvl    AllPub  ...           0        0    NaN    NaN   \n",
       "2            Lvl    AllPub  ...           0        0    NaN  MnPrv   \n",
       "3            Lvl    AllPub  ...           0        0    NaN    NaN   \n",
       "4            HLS    AllPub  ...         144        0    NaN    NaN   \n",
       "...          ...       ...  ...         ...      ...    ...    ...   \n",
       "1454         Lvl    AllPub  ...           0        0    NaN    NaN   \n",
       "1455         Lvl    AllPub  ...           0        0    NaN    NaN   \n",
       "1456         Lvl    AllPub  ...           0        0    NaN    NaN   \n",
       "1457         Lvl    AllPub  ...           0        0    NaN  MnPrv   \n",
       "1458         Lvl    AllPub  ...           0        0    NaN    NaN   \n",
       "\n",
       "     MiscFeature MiscVal MoSold  YrSold  SaleType  SaleCondition  \n",
       "0            NaN       0      6    2010        WD         Normal  \n",
       "1           Gar2   12500      6    2010        WD         Normal  \n",
       "2            NaN       0      3    2010        WD         Normal  \n",
       "3            NaN       0      6    2010        WD         Normal  \n",
       "4            NaN       0      1    2010        WD         Normal  \n",
       "...          ...     ...    ...     ...       ...            ...  \n",
       "1454         NaN       0      6    2006        WD         Normal  \n",
       "1455         NaN       0      4    2006        WD        Abnorml  \n",
       "1456         NaN       0      9    2006        WD        Abnorml  \n",
       "1457        Shed     700      7    2006        WD         Normal  \n",
       "1458         NaN       0     11    2006        WD         Normal  \n",
       "\n",
       "[1459 rows x 80 columns]"
      ]
     },
     "execution_count": 4,
     "metadata": {},
     "output_type": "execute_result"
    }
   ],
   "source": [
    "test"
   ]
  },
  {
   "cell_type": "markdown",
   "metadata": {
    "papermill": {
     "duration": 0.016343,
     "end_time": "2020-08-15T12:50:44.565447",
     "exception": false,
     "start_time": "2020-08-15T12:50:44.549104",
     "status": "completed"
    },
    "tags": []
   },
   "source": [
    "#  Pré-processamento de Dados"
   ]
  },
  {
   "cell_type": "markdown",
   "metadata": {
    "papermill": {
     "duration": 0.025462,
     "end_time": "2020-08-15T12:50:44.608655",
     "exception": false,
     "start_time": "2020-08-15T12:50:44.583193",
     "status": "completed"
    },
    "tags": []
   },
   "source": [
    "### Normalizando os dados"
   ]
  },
  {
   "cell_type": "code",
   "execution_count": 5,
   "metadata": {
    "execution": {
     "iopub.execute_input": "2020-08-15T12:50:44.670048Z",
     "iopub.status.busy": "2020-08-15T12:50:44.668968Z",
     "iopub.status.idle": "2020-08-15T12:50:45.675694Z",
     "shell.execute_reply": "2020-08-15T12:50:45.674875Z"
    },
    "papermill": {
     "duration": 1.044419,
     "end_time": "2020-08-15T12:50:45.675832",
     "exception": false,
     "start_time": "2020-08-15T12:50:44.631413",
     "status": "completed"
    },
    "tags": []
   },
   "outputs": [
    {
     "name": "stdout",
     "output_type": "stream",
     "text": [
      "\n",
      " mu = 180921.20 e sigma = 79415.29\n",
      "\n"
     ]
    },
    {
     "data": {
      "image/png": "[encoded data removed]",
      "text/plain": [
       "<Figure size 432x288 with 1 Axes>"
      ]
     },
     "metadata": {
      "needs_background": "light"
     },
     "output_type": "display_data"
    },
    {
     "data": {
      "image/png": "[encoded data removed]",
      "text/plain": [
       "<Figure size 432x288 with 1 Axes>"
      ]
     },
     "metadata": {
      "needs_background": "light"
     },
     "output_type": "display_data"
    }
   ],
   "source": [
    "sns.distplot(train['SalePrice'] , fit=norm);\n",
    "\n",
    "# Obtem os paramentros ajustados pela função\n",
    "(mu, sigma) = norm.fit(train['SalePrice'])\n",
    "print( '\\n mu = {:.2f} e sigma = {:.2f}\\n'.format(mu, sigma))\n",
    "\n",
    "# Exibe a distribuição atual\n",
    "plt.legend(['Normal dist. ($\\mu=$ {:.2f} e $\\sigma=$ {:.2f} )'.format(mu, sigma)],\n",
    "            loc='best')\n",
    "plt.ylabel('Frequencia')\n",
    "plt.title('Distribuição do Preço de Venda')\n",
    "\n",
    "# Também obtem o QQ-plot\n",
    "fig = plt.figure()\n",
    "res = stats.probplot(train['SalePrice'], plot=plt)\n",
    "plt.show()"
   ]
  },
  {
   "cell_type": "code",
   "execution_count": 6,
   "metadata": {
    "execution": {
     "iopub.execute_input": "2020-08-15T12:50:45.717939Z",
     "iopub.status.busy": "2020-08-15T12:50:45.717055Z",
     "iopub.status.idle": "2020-08-15T12:50:45.721061Z",
     "shell.execute_reply": "2020-08-15T12:50:45.720236Z"
    },
    "papermill": {
     "duration": 0.02796,
     "end_time": "2020-08-15T12:50:45.721203",
     "exception": false,
     "start_time": "2020-08-15T12:50:45.693243",
     "status": "completed"
    },
    "tags": []
   },
   "outputs": [],
   "source": [
    "# Normaliza\n",
    "train[\"SalePrice\"] = np.log1p(train[\"SalePrice\"])"
   ]
  },
  {
   "cell_type": "code",
   "execution_count": 7,
   "metadata": {
    "execution": {
     "iopub.execute_input": "2020-08-15T12:50:45.773822Z",
     "iopub.status.busy": "2020-08-15T12:50:45.772794Z",
     "iopub.status.idle": "2020-08-15T12:50:46.348479Z",
     "shell.execute_reply": "2020-08-15T12:50:46.349097Z"
    },
    "papermill": {
     "duration": 0.609891,
     "end_time": "2020-08-15T12:50:46.349305",
     "exception": false,
     "start_time": "2020-08-15T12:50:45.739414",
     "status": "completed"
    },
    "tags": []
   },
   "outputs": [
    {
     "name": "stdout",
     "output_type": "stream",
     "text": [
      "\n",
      " mu = 12.02 and sigma = 0.40\n",
      "\n"
     ]
    },
    {
     "data": {
      "image/png": "[encoded data removed]",
      "text/plain": [
       "<Figure size 432x288 with 1 Axes>"
      ]
     },
     "metadata": {
      "needs_background": "light"
     },
     "output_type": "display_data"
    },
    {
     "data": {
      "image/png": "[encoded data removed]",
      "text/plain": [
       "<Figure size 432x288 with 1 Axes>"
      ]
     },
     "metadata": {
      "needs_background": "light"
     },
     "output_type": "display_data"
    }
   ],
   "source": [
    "sns.distplot(train['SalePrice'] , fit=norm);\n",
    "\n",
    "# Obtem os paramentros ajustados pela função\n",
    "(mu, sigma) = norm.fit(train['SalePrice'])\n",
    "print( '\\n mu = {:.2f} and sigma = {:.2f}\\n'.format(mu, sigma))\n",
    "\n",
    "# Exibe a distribuição atual\n",
    "plt.legend(['Normal dist. ($\\mu=$ {:.2f} and $\\sigma=$ {:.2f} )'.format(mu, sigma)],\n",
    "            loc='best')\n",
    "plt.ylabel('Frequencia')\n",
    "plt.title('Distribuição do Preço de Venda')\n",
    "\n",
    "# Também obtem o QQ-plot\n",
    "fig = plt.figure()\n",
    "res = stats.probplot(train['SalePrice'], plot=plt)\n",
    "plt.show()"
   ]
  },
  {
   "cell_type": "markdown",
   "metadata": {
    "papermill": {
     "duration": 0.018891,
     "end_time": "2020-08-15T12:50:46.385982",
     "exception": false,
     "start_time": "2020-08-15T12:50:46.367091",
     "status": "completed"
    },
    "tags": []
   },
   "source": [
    "## Engenharia de Recursos"
   ]
  },
  {
   "cell_type": "code",
   "execution_count": 8,
   "metadata": {
    "execution": {
     "iopub.execute_input": "2020-08-15T12:50:46.453768Z",
     "iopub.status.busy": "2020-08-15T12:50:46.440039Z",
     "iopub.status.idle": "2020-08-15T12:50:46.463893Z",
     "shell.execute_reply": "2020-08-15T12:50:46.463189Z"
    },
    "papermill": {
     "duration": 0.060301,
     "end_time": "2020-08-15T12:50:46.464067",
     "exception": false,
     "start_time": "2020-08-15T12:50:46.403766",
     "status": "completed"
    },
    "tags": []
   },
   "outputs": [],
   "source": [
    "# Concatena as bases de dados para facilitar o pré-processamento\n",
    "data = pd.concat([train, test])"
   ]
  },
  {
   "cell_type": "code",
   "execution_count": 9,
   "metadata": {
    "execution": {
     "iopub.execute_input": "2020-08-15T12:50:46.510071Z",
     "iopub.status.busy": "2020-08-15T12:50:46.509108Z",
     "iopub.status.idle": "2020-08-15T12:50:46.513304Z",
     "shell.execute_reply": "2020-08-15T12:50:46.512505Z"
    },
    "papermill": {
     "duration": 0.030765,
     "end_time": "2020-08-15T12:50:46.513439",
     "exception": false,
     "start_time": "2020-08-15T12:50:46.482674",
     "status": "completed"
    },
    "tags": []
   },
   "outputs": [],
   "source": [
    "data.set_index('Id', inplace = True)"
   ]
  },
  {
   "cell_type": "code",
   "execution_count": 10,
   "metadata": {
    "execution": {
     "iopub.execute_input": "2020-08-15T12:50:46.557377Z",
     "iopub.status.busy": "2020-08-15T12:50:46.555891Z",
     "iopub.status.idle": "2020-08-15T12:50:46.587448Z",
     "shell.execute_reply": "2020-08-15T12:50:46.586600Z"
    },
    "papermill": {
     "duration": 0.056499,
     "end_time": "2020-08-15T12:50:46.587614",
     "exception": false,
     "start_time": "2020-08-15T12:50:46.531115",
     "status": "completed"
    },
    "tags": []
   },
   "outputs": [
    {
     "data": {
      "text/plain": [
       "MSSubClass         0\n",
       "MSZoning           4\n",
       "LotFrontage      486\n",
       "LotArea            0\n",
       "Street             0\n",
       "Alley           2721\n",
       "LotShape           0\n",
       "LandContour        0\n",
       "Utilities          2\n",
       "LotConfig          0\n",
       "LandSlope          0\n",
       "Neighborhood       0\n",
       "Condition1         0\n",
       "Condition2         0\n",
       "BldgType           0\n",
       "HouseStyle         0\n",
       "OverallQual        0\n",
       "OverallCond        0\n",
       "YearBuilt          0\n",
       "YearRemodAdd       0\n",
       "RoofStyle          0\n",
       "RoofMatl           0\n",
       "Exterior1st        1\n",
       "Exterior2nd        1\n",
       "MasVnrType        24\n",
       "MasVnrArea        23\n",
       "ExterQual          0\n",
       "ExterCond          0\n",
       "Foundation         0\n",
       "BsmtQual          81\n",
       "BsmtCond          82\n",
       "BsmtExposure      82\n",
       "BsmtFinType1      79\n",
       "BsmtFinSF1         1\n",
       "BsmtFinType2      80\n",
       "BsmtFinSF2         1\n",
       "BsmtUnfSF          1\n",
       "TotalBsmtSF        1\n",
       "Heating            0\n",
       "HeatingQC          0\n",
       "CentralAir         0\n",
       "Electrical         1\n",
       "1stFlrSF           0\n",
       "2ndFlrSF           0\n",
       "LowQualFinSF       0\n",
       "GrLivArea          0\n",
       "BsmtFullBath       2\n",
       "BsmtHalfBath       2\n",
       "FullBath           0\n",
       "HalfBath           0\n",
       "dtype: int64"
      ]
     },
     "execution_count": 10,
     "metadata": {},
     "output_type": "execute_result"
    }
   ],
   "source": [
    "data.isnull().sum()[:50]"
   ]
  },
  {
   "cell_type": "code",
   "execution_count": 11,
   "metadata": {
    "execution": {
     "iopub.execute_input": "2020-08-15T12:50:46.647166Z",
     "iopub.status.busy": "2020-08-15T12:50:46.646279Z",
     "iopub.status.idle": "2020-08-15T12:50:46.681948Z",
     "shell.execute_reply": "2020-08-15T12:50:46.681087Z"
    },
    "papermill": {
     "duration": 0.073927,
     "end_time": "2020-08-15T12:50:46.682098",
     "exception": false,
     "start_time": "2020-08-15T12:50:46.608171",
     "status": "completed"
    },
    "tags": []
   },
   "outputs": [
    {
     "name": "stdout",
     "output_type": "stream",
     "text": [
      "<class 'pandas.core.frame.DataFrame'>\n",
      "Int64Index: 2919 entries, 1 to 2919\n",
      "Data columns (total 80 columns):\n",
      " #   Column         Non-Null Count  Dtype  \n",
      "---  ------         --------------  -----  \n",
      " 0   MSSubClass     2919 non-null   int64  \n",
      " 1   MSZoning       2915 non-null   object \n",
      " 2   LotFrontage    2433 non-null   float64\n",
      " 3   LotArea        2919 non-null   int64  \n",
      " 4   Street         2919 non-null   object \n",
      " 5   Alley          198 non-null    object \n",
      " 6   LotShape       2919 non-null   object \n",
      " 7   LandContour    2919 non-null   object \n",
      " 8   Utilities      2917 non-null   object \n",
      " 9   LotConfig      2919 non-null   object \n",
      " 10  LandSlope      2919 non-null   object \n",
      " 11  Neighborhood   2919 non-null   object \n",
      " 12  Condition1     2919 non-null   object \n",
      " 13  Condition2     2919 non-null   object \n",
      " 14  BldgType       2919 non-null   object \n",
      " 15  HouseStyle     2919 non-null   object \n",
      " 16  OverallQual    2919 non-null   int64  \n",
      " 17  OverallCond    2919 non-null   int64  \n",
      " 18  YearBuilt      2919 non-null   int64  \n",
      " 19  YearRemodAdd   2919 non-null   int64  \n",
      " 20  RoofStyle      2919 non-null   object \n",
      " 21  RoofMatl       2919 non-null   object \n",
      " 22  Exterior1st    2918 non-null   object \n",
      " 23  Exterior2nd    2918 non-null   object \n",
      " 24  MasVnrType     2895 non-null   object \n",
      " 25  MasVnrArea     2896 non-null   float64\n",
      " 26  ExterQual      2919 non-null   object \n",
      " 27  ExterCond      2919 non-null   object \n",
      " 28  Foundation     2919 non-null   object \n",
      " 29  BsmtQual       2838 non-null   object \n",
      " 30  BsmtCond       2837 non-null   object \n",
      " 31  BsmtExposure   2837 non-null   object \n",
      " 32  BsmtFinType1   2840 non-null   object \n",
      " 33  BsmtFinSF1     2918 non-null   float64\n",
      " 34  BsmtFinType2   2839 non-null   object \n",
      " 35  BsmtFinSF2     2918 non-null   float64\n",
      " 36  BsmtUnfSF      2918 non-null   float64\n",
      " 37  TotalBsmtSF    2918 non-null   float64\n",
      " 38  Heating        2919 non-null   object \n",
      " 39  HeatingQC      2919 non-null   object \n",
      " 40  CentralAir     2919 non-null   object \n",
      " 41  Electrical     2918 non-null   object \n",
      " 42  1stFlrSF       2919 non-null   int64  \n",
      " 43  2ndFlrSF       2919 non-null   int64  \n",
      " 44  LowQualFinSF   2919 non-null   int64  \n",
      " 45  GrLivArea      2919 non-null   int64  \n",
      " 46  BsmtFullBath   2917 non-null   float64\n",
      " 47  BsmtHalfBath   2917 non-null   float64\n",
      " 48  FullBath       2919 non-null   int64  \n",
      " 49  HalfBath       2919 non-null   int64  \n",
      " 50  BedroomAbvGr   2919 non-null   int64  \n",
      " 51  KitchenAbvGr   2919 non-null   int64  \n",
      " 52  KitchenQual    2918 non-null   object \n",
      " 53  TotRmsAbvGrd   2919 non-null   int64  \n",
      " 54  Functional     2917 non-null   object \n",
      " 55  Fireplaces     2919 non-null   int64  \n",
      " 56  FireplaceQu    1499 non-null   object \n",
      " 57  GarageType     2762 non-null   object \n",
      " 58  GarageYrBlt    2760 non-null   float64\n",
      " 59  GarageFinish   2760 non-null   object \n",
      " 60  GarageCars     2918 non-null   float64\n",
      " 61  GarageArea     2918 non-null   float64\n",
      " 62  GarageQual     2760 non-null   object \n",
      " 63  GarageCond     2760 non-null   object \n",
      " 64  PavedDrive     2919 non-null   object \n",
      " 65  WoodDeckSF     2919 non-null   int64  \n",
      " 66  OpenPorchSF    2919 non-null   int64  \n",
      " 67  EnclosedPorch  2919 non-null   int64  \n",
      " 68  3SsnPorch      2919 non-null   int64  \n",
      " 69  ScreenPorch    2919 non-null   int64  \n",
      " 70  PoolArea       2919 non-null   int64  \n",
      " 71  PoolQC         10 non-null     object \n",
      " 72  Fence          571 non-null    object \n",
      " 73  MiscFeature    105 non-null    object \n",
      " 74  MiscVal        2919 non-null   int64  \n",
      " 75  MoSold         2919 non-null   int64  \n",
      " 76  YrSold         2919 non-null   int64  \n",
      " 77  SaleType       2918 non-null   object \n",
      " 78  SaleCondition  2919 non-null   object \n",
      " 79  SalePrice      1460 non-null   float64\n",
      "dtypes: float64(12), int64(25), object(43)\n",
      "memory usage: 1.8+ MB\n"
     ]
    }
   ],
   "source": [
    "data.info()"
   ]
  },
  {
   "cell_type": "markdown",
   "metadata": {
    "papermill": {
     "duration": 0.019227,
     "end_time": "2020-08-15T12:50:46.720373",
     "exception": false,
     "start_time": "2020-08-15T12:50:46.701146",
     "status": "completed"
    },
    "tags": []
   },
   "source": [
    "### Trabalhando com Valores Faltantes\n",
    "\n",
    "Olhando o arquivo data_description.txt (vem junto com a base de dados) podemos fazer varios ajustes nos dados: "
   ]
  },
  {
   "cell_type": "code",
   "execution_count": 12,
   "metadata": {
    "execution": {
     "iopub.execute_input": "2020-08-15T12:50:46.772027Z",
     "iopub.status.busy": "2020-08-15T12:50:46.771217Z",
     "iopub.status.idle": "2020-08-15T12:50:46.776193Z",
     "shell.execute_reply": "2020-08-15T12:50:46.775296Z"
    },
    "papermill": {
     "duration": 0.036077,
     "end_time": "2020-08-15T12:50:46.776353",
     "exception": false,
     "start_time": "2020-08-15T12:50:46.740276",
     "status": "completed"
    },
    "tags": []
   },
   "outputs": [],
   "source": [
    "data['PoolQC'].fillna('None', inplace=True) # Valor NaN significa 'Sem Pscina'\n",
    "data['MiscFeature'].fillna('None', inplace=True) # Valore NaN significa 'Sem Funcionalidade diversa'\n",
    "data['Alley'].fillna('None', inplace=True) # Valor NaN significa 'Sem acesso ao beco'\n",
    "data['Fence'].fillna('None', inplace=True) # Valor NaN significa 'Sem cerca'\n",
    "data['FireplaceQu'].fillna('None', inplace=True) # Valor NaN significa 'Sem Lareira'"
   ]
  },
  {
   "cell_type": "code",
   "execution_count": 13,
   "metadata": {
    "execution": {
     "iopub.execute_input": "2020-08-15T12:50:46.828027Z",
     "iopub.status.busy": "2020-08-15T12:50:46.825218Z",
     "iopub.status.idle": "2020-08-15T12:50:46.853067Z",
     "shell.execute_reply": "2020-08-15T12:50:46.852199Z"
    },
    "papermill": {
     "duration": 0.05826,
     "end_time": "2020-08-15T12:50:46.853222",
     "exception": false,
     "start_time": "2020-08-15T12:50:46.794962",
     "status": "completed"
    },
    "tags": []
   },
   "outputs": [],
   "source": [
    "# Como a área de cada rua conectada à propriedade da casa, muito provavelmente tem uma área semelhante a outras casas em seu bairro, podemos preencher os valores que faltam pela mediana da 'LotFrontage' do bairro.\n",
    "data[\"LotFrontage\"] = data.groupby(\"Neighborhood\")[\"LotFrontage\"].transform(lambda x: x.fillna(x.median()))"
   ]
  },
  {
   "cell_type": "code",
   "execution_count": 14,
   "metadata": {
    "execution": {
     "iopub.execute_input": "2020-08-15T12:50:46.904316Z",
     "iopub.status.busy": "2020-08-15T12:50:46.903445Z",
     "iopub.status.idle": "2020-08-15T12:50:46.908311Z",
     "shell.execute_reply": "2020-08-15T12:50:46.907615Z"
    },
    "papermill": {
     "duration": 0.036566,
     "end_time": "2020-08-15T12:50:46.908468",
     "exception": false,
     "start_time": "2020-08-15T12:50:46.871902",
     "status": "completed"
    },
    "tags": []
   },
   "outputs": [],
   "source": [
    "# GarageType, GarageFinish, GarageQual e GarageCond: Repondo dados faltantes por None\n",
    "for col in ('GarageType', 'GarageFinish', 'GarageQual', 'GarageCond'):\n",
    "    data[col] = data[col].fillna('None')"
   ]
  },
  {
   "cell_type": "code",
   "execution_count": 15,
   "metadata": {
    "execution": {
     "iopub.execute_input": "2020-08-15T12:50:46.956199Z",
     "iopub.status.busy": "2020-08-15T12:50:46.955236Z",
     "iopub.status.idle": "2020-08-15T12:50:46.959754Z",
     "shell.execute_reply": "2020-08-15T12:50:46.958878Z"
    },
    "papermill": {
     "duration": 0.032194,
     "end_time": "2020-08-15T12:50:46.959913",
     "exception": false,
     "start_time": "2020-08-15T12:50:46.927719",
     "status": "completed"
    },
    "tags": []
   },
   "outputs": [],
   "source": [
    "# GarageYrBlt, GarageArea e GarageCars : Repondo dados faltantes por 0 (Pois Sem garagem = sem carros na garagem.)\n",
    "for col in ('GarageYrBlt', 'GarageArea', 'GarageCars'):\n",
    "    data[col] = data[col].fillna(0)"
   ]
  },
  {
   "cell_type": "code",
   "execution_count": 16,
   "metadata": {
    "execution": {
     "iopub.execute_input": "2020-08-15T12:50:47.010077Z",
     "iopub.status.busy": "2020-08-15T12:50:47.008398Z",
     "iopub.status.idle": "2020-08-15T12:50:47.017661Z",
     "shell.execute_reply": "2020-08-15T12:50:47.016718Z"
    },
    "papermill": {
     "duration": 0.03831,
     "end_time": "2020-08-15T12:50:47.017813",
     "exception": false,
     "start_time": "2020-08-15T12:50:46.979503",
     "status": "completed"
    },
    "tags": []
   },
   "outputs": [],
   "source": [
    "# BsmtFinSF1, BsmtFinSF2, BsmtUnfSF, TotalBsmtSF, BsmtFullBath e BsmtHalfBath : Dados faltantes provavelmente são zeros (pois o lugar pode não ter porão)\n",
    "for col in ('BsmtFinSF1', 'BsmtFinSF2', 'BsmtUnfSF','TotalBsmtSF', 'BsmtFullBath', 'BsmtHalfBath'):\n",
    "    data[col] = data[col].fillna(0)"
   ]
  },
  {
   "cell_type": "code",
   "execution_count": 17,
   "metadata": {
    "execution": {
     "iopub.execute_input": "2020-08-15T12:50:47.072495Z",
     "iopub.status.busy": "2020-08-15T12:50:47.071434Z",
     "iopub.status.idle": "2020-08-15T12:50:47.075374Z",
     "shell.execute_reply": "2020-08-15T12:50:47.074559Z"
    },
    "papermill": {
     "duration": 0.036644,
     "end_time": "2020-08-15T12:50:47.075524",
     "exception": false,
     "start_time": "2020-08-15T12:50:47.038880",
     "status": "completed"
    },
    "tags": []
   },
   "outputs": [],
   "source": [
    "# BsmtQual, BsmtCond, BsmtExposure, BsmtFinType1 e BsmtFinType2 : Para todas essas categorias que tem relação com porão, NaN ssignifica que pode não ter porão.\n",
    "for col in ('BsmtQual', 'BsmtCond', 'BsmtExposure', 'BsmtFinType1', 'BsmtFinType2'):\n",
    "    data[col] = data[col].fillna('None')"
   ]
  },
  {
   "cell_type": "code",
   "execution_count": 18,
   "metadata": {
    "execution": {
     "iopub.execute_input": "2020-08-15T12:50:47.124752Z",
     "iopub.status.busy": "2020-08-15T12:50:47.123766Z",
     "iopub.status.idle": "2020-08-15T12:50:47.127918Z",
     "shell.execute_reply": "2020-08-15T12:50:47.127032Z"
    },
    "papermill": {
     "duration": 0.033706,
     "end_time": "2020-08-15T12:50:47.128069",
     "exception": false,
     "start_time": "2020-08-15T12:50:47.094363",
     "status": "completed"
    },
    "tags": []
   },
   "outputs": [],
   "source": [
    "# MasVnrArea e MasVnrType : Provavelmente Na significa 'sem folheado de alvenaria'. Nos podemos colocar a área como 0 e o tipo como None. \n",
    "data[\"MasVnrType\"] = data[\"MasVnrType\"].fillna(\"None\")\n",
    "data[\"MasVnrArea\"] = data[\"MasVnrArea\"].fillna(0)"
   ]
  },
  {
   "cell_type": "code",
   "execution_count": 19,
   "metadata": {
    "execution": {
     "iopub.execute_input": "2020-08-15T12:50:47.177618Z",
     "iopub.status.busy": "2020-08-15T12:50:47.176369Z",
     "iopub.status.idle": "2020-08-15T12:50:47.179643Z",
     "shell.execute_reply": "2020-08-15T12:50:47.178814Z"
    },
    "papermill": {
     "duration": 0.031617,
     "end_time": "2020-08-15T12:50:47.179789",
     "exception": false,
     "start_time": "2020-08-15T12:50:47.148172",
     "status": "completed"
    },
    "tags": []
   },
   "outputs": [],
   "source": [
    "# MSZoning (Classificação geral de zoneamento) : 'RL' é de longe o valor mais comum. Nesse caso nos podemos substituir  Na por 'RL'\n",
    "data['MSZoning'] = data['MSZoning'].fillna(data['MSZoning'].mode()[0])"
   ]
  },
  {
   "cell_type": "code",
   "execution_count": 20,
   "metadata": {
    "execution": {
     "iopub.execute_input": "2020-08-15T12:50:47.229759Z",
     "iopub.status.busy": "2020-08-15T12:50:47.228425Z",
     "iopub.status.idle": "2020-08-15T12:50:47.232648Z",
     "shell.execute_reply": "2020-08-15T12:50:47.231840Z"
    },
    "papermill": {
     "duration": 0.032888,
     "end_time": "2020-08-15T12:50:47.232792",
     "exception": false,
     "start_time": "2020-08-15T12:50:47.199904",
     "status": "completed"
    },
    "tags": []
   },
   "outputs": [],
   "source": [
    "# Utilities : Para essa caracteristica categorica todos os valores são \"AllPub\", exceto um \"NoSeWa\" e 2 NA. Como a casa com 'NoSewa' está no conjunto de treinamento, esse recurso não ajudará na modelagem preditiva. Podemos então removê-lo tranquilamente.\n",
    "data = data.drop(['Utilities'], axis=1)"
   ]
  },
  {
   "cell_type": "code",
   "execution_count": 21,
   "metadata": {
    "execution": {
     "iopub.execute_input": "2020-08-15T12:50:47.279411Z",
     "iopub.status.busy": "2020-08-15T12:50:47.278578Z",
     "iopub.status.idle": "2020-08-15T12:50:47.282403Z",
     "shell.execute_reply": "2020-08-15T12:50:47.281600Z"
    },
    "papermill": {
     "duration": 0.030689,
     "end_time": "2020-08-15T12:50:47.282540",
     "exception": false,
     "start_time": "2020-08-15T12:50:47.251851",
     "status": "completed"
    },
    "tags": []
   },
   "outputs": [],
   "source": [
    "# Functional : A descrição dos dados diz que NA significa typical\n",
    "data[\"Functional\"] = data[\"Functional\"].fillna(\"Typ\")"
   ]
  },
  {
   "cell_type": "code",
   "execution_count": 22,
   "metadata": {
    "execution": {
     "iopub.execute_input": "2020-08-15T12:50:47.331566Z",
     "iopub.status.busy": "2020-08-15T12:50:47.330737Z",
     "iopub.status.idle": "2020-08-15T12:50:47.334969Z",
     "shell.execute_reply": "2020-08-15T12:50:47.334115Z"
    },
    "papermill": {
     "duration": 0.033126,
     "end_time": "2020-08-15T12:50:47.335111",
     "exception": false,
     "start_time": "2020-08-15T12:50:47.301985",
     "status": "completed"
    },
    "tags": []
   },
   "outputs": [],
   "source": [
    "# Electrical : Esse tem apenas um valor Na. Como a caracteristica mais comum é 'SBrkr', podemos substituir o valor faltante por este.\n",
    "data['Electrical'] = data['Electrical'].fillna(data['Electrical'].mode()[0])"
   ]
  },
  {
   "cell_type": "code",
   "execution_count": 23,
   "metadata": {
    "execution": {
     "iopub.execute_input": "2020-08-15T12:50:47.383024Z",
     "iopub.status.busy": "2020-08-15T12:50:47.382186Z",
     "iopub.status.idle": "2020-08-15T12:50:47.386317Z",
     "shell.execute_reply": "2020-08-15T12:50:47.385506Z"
    },
    "papermill": {
     "duration": 0.032109,
     "end_time": "2020-08-15T12:50:47.386458",
     "exception": false,
     "start_time": "2020-08-15T12:50:47.354349",
     "status": "completed"
    },
    "tags": []
   },
   "outputs": [],
   "source": [
    "# KitchenQual: Apenas um valor Na. Como a caracteristica mais comum é 'TA', podemos substituir o valor faltante por este.\n",
    "data['KitchenQual'] = data['KitchenQual'].fillna(data['KitchenQual'].mode()[0])"
   ]
  },
  {
   "cell_type": "code",
   "execution_count": 24,
   "metadata": {
    "execution": {
     "iopub.execute_input": "2020-08-15T12:50:47.437624Z",
     "iopub.status.busy": "2020-08-15T12:50:47.436735Z",
     "iopub.status.idle": "2020-08-15T12:50:47.441073Z",
     "shell.execute_reply": "2020-08-15T12:50:47.440385Z"
    },
    "papermill": {
     "duration": 0.035265,
     "end_time": "2020-08-15T12:50:47.441213",
     "exception": false,
     "start_time": "2020-08-15T12:50:47.405948",
     "status": "completed"
    },
    "tags": []
   },
   "outputs": [],
   "source": [
    "# Exterior1st e Exterior2nd : Denovo, como Exterior 1 e 2 tem apenas um valor faltante. Vamos substituir esse valor pelo valor mais comum da coluna.\n",
    "data['Exterior1st'] = data['Exterior1st'].fillna(data['Exterior1st'].mode()[0])\n",
    "data['Exterior2nd'] = data['Exterior2nd'].fillna(data['Exterior2nd'].mode()[0])"
   ]
  },
  {
   "cell_type": "code",
   "execution_count": 25,
   "metadata": {
    "execution": {
     "iopub.execute_input": "2020-08-15T12:50:47.492362Z",
     "iopub.status.busy": "2020-08-15T12:50:47.491192Z",
     "iopub.status.idle": "2020-08-15T12:50:47.495370Z",
     "shell.execute_reply": "2020-08-15T12:50:47.494573Z"
    },
    "papermill": {
     "duration": 0.033372,
     "end_time": "2020-08-15T12:50:47.495502",
     "exception": false,
     "start_time": "2020-08-15T12:50:47.462130",
     "status": "completed"
    },
    "tags": []
   },
   "outputs": [],
   "source": [
    "# SaleType : Preenchendo denovo com o valor mais comum: \"WD\"\n",
    "data['SaleType'] = data['SaleType'].fillna(data['SaleType'].mode()[0])"
   ]
  },
  {
   "cell_type": "code",
   "execution_count": 26,
   "metadata": {
    "execution": {
     "iopub.execute_input": "2020-08-15T12:50:47.542732Z",
     "iopub.status.busy": "2020-08-15T12:50:47.541659Z",
     "iopub.status.idle": "2020-08-15T12:50:47.545679Z",
     "shell.execute_reply": "2020-08-15T12:50:47.544873Z"
    },
    "papermill": {
     "duration": 0.030915,
     "end_time": "2020-08-15T12:50:47.545830",
     "exception": false,
     "start_time": "2020-08-15T12:50:47.514915",
     "status": "completed"
    },
    "tags": []
   },
   "outputs": [],
   "source": [
    "# MSSubClass : Na provavelmente significa Sem aula de construção. Vamos substituilos por None\n",
    "data['MSSubClass'] = data['MSSubClass'].fillna(\"None\")"
   ]
  },
  {
   "cell_type": "code",
   "execution_count": 27,
   "metadata": {
    "execution": {
     "iopub.execute_input": "2020-08-15T12:50:47.610983Z",
     "iopub.status.busy": "2020-08-15T12:50:47.609693Z",
     "iopub.status.idle": "2020-08-15T12:50:47.643961Z",
     "shell.execute_reply": "2020-08-15T12:50:47.642981Z"
    },
    "papermill": {
     "duration": 0.07906,
     "end_time": "2020-08-15T12:50:47.644157",
     "exception": false,
     "start_time": "2020-08-15T12:50:47.565097",
     "status": "completed"
    },
    "tags": []
   },
   "outputs": [
    {
     "name": "stdout",
     "output_type": "stream",
     "text": [
      "<class 'pandas.core.frame.DataFrame'>\n",
      "Int64Index: 2919 entries, 1 to 2919\n",
      "Data columns (total 79 columns):\n",
      " #   Column         Non-Null Count  Dtype  \n",
      "---  ------         --------------  -----  \n",
      " 0   MSSubClass     2919 non-null   int64  \n",
      " 1   MSZoning       2919 non-null   object \n",
      " 2   LotFrontage    2919 non-null   float64\n",
      " 3   LotArea        2919 non-null   int64  \n",
      " 4   Street         2919 non-null   object \n",
      " 5   Alley          2919 non-null   object \n",
      " 6   LotShape       2919 non-null   object \n",
      " 7   LandContour    2919 non-null   object \n",
      " 8   LotConfig      2919 non-null   object \n",
      " 9   LandSlope      2919 non-null   object \n",
      " 10  Neighborhood   2919 non-null   object \n",
      " 11  Condition1     2919 non-null   object \n",
      " 12  Condition2     2919 non-null   object \n",
      " 13  BldgType       2919 non-null   object \n",
      " 14  HouseStyle     2919 non-null   object \n",
      " 15  OverallQual    2919 non-null   int64  \n",
      " 16  OverallCond    2919 non-null   int64  \n",
      " 17  YearBuilt      2919 non-null   int64  \n",
      " 18  YearRemodAdd   2919 non-null   int64  \n",
      " 19  RoofStyle      2919 non-null   object \n",
      " 20  RoofMatl       2919 non-null   object \n",
      " 21  Exterior1st    2919 non-null   object \n",
      " 22  Exterior2nd    2919 non-null   object \n",
      " 23  MasVnrType     2919 non-null   object \n",
      " 24  MasVnrArea     2919 non-null   float64\n",
      " 25  ExterQual      2919 non-null   object \n",
      " 26  ExterCond      2919 non-null   object \n",
      " 27  Foundation     2919 non-null   object \n",
      " 28  BsmtQual       2919 non-null   object \n",
      " 29  BsmtCond       2919 non-null   object \n",
      " 30  BsmtExposure   2919 non-null   object \n",
      " 31  BsmtFinType1   2919 non-null   object \n",
      " 32  BsmtFinSF1     2919 non-null   float64\n",
      " 33  BsmtFinType2   2919 non-null   object \n",
      " 34  BsmtFinSF2     2919 non-null   float64\n",
      " 35  BsmtUnfSF      2919 non-null   float64\n",
      " 36  TotalBsmtSF    2919 non-null   float64\n",
      " 37  Heating        2919 non-null   object \n",
      " 38  HeatingQC      2919 non-null   object \n",
      " 39  CentralAir     2919 non-null   object \n",
      " 40  Electrical     2919 non-null   object \n",
      " 41  1stFlrSF       2919 non-null   int64  \n",
      " 42  2ndFlrSF       2919 non-null   int64  \n",
      " 43  LowQualFinSF   2919 non-null   int64  \n",
      " 44  GrLivArea      2919 non-null   int64  \n",
      " 45  BsmtFullBath   2919 non-null   float64\n",
      " 46  BsmtHalfBath   2919 non-null   float64\n",
      " 47  FullBath       2919 non-null   int64  \n",
      " 48  HalfBath       2919 non-null   int64  \n",
      " 49  BedroomAbvGr   2919 non-null   int64  \n",
      " 50  KitchenAbvGr   2919 non-null   int64  \n",
      " 51  KitchenQual    2919 non-null   object \n",
      " 52  TotRmsAbvGrd   2919 non-null   int64  \n",
      " 53  Functional     2919 non-null   object \n",
      " 54  Fireplaces     2919 non-null   int64  \n",
      " 55  FireplaceQu    2919 non-null   object \n",
      " 56  GarageType     2919 non-null   object \n",
      " 57  GarageYrBlt    2919 non-null   float64\n",
      " 58  GarageFinish   2919 non-null   object \n",
      " 59  GarageCars     2919 non-null   float64\n",
      " 60  GarageArea     2919 non-null   float64\n",
      " 61  GarageQual     2919 non-null   object \n",
      " 62  GarageCond     2919 non-null   object \n",
      " 63  PavedDrive     2919 non-null   object \n",
      " 64  WoodDeckSF     2919 non-null   int64  \n",
      " 65  OpenPorchSF    2919 non-null   int64  \n",
      " 66  EnclosedPorch  2919 non-null   int64  \n",
      " 67  3SsnPorch      2919 non-null   int64  \n",
      " 68  ScreenPorch    2919 non-null   int64  \n",
      " 69  PoolArea       2919 non-null   int64  \n",
      " 70  PoolQC         2919 non-null   object \n",
      " 71  Fence          2919 non-null   object \n",
      " 72  MiscFeature    2919 non-null   object \n",
      " 73  MiscVal        2919 non-null   int64  \n",
      " 74  MoSold         2919 non-null   int64  \n",
      " 75  YrSold         2919 non-null   int64  \n",
      " 76  SaleType       2919 non-null   object \n",
      " 77  SaleCondition  2919 non-null   object \n",
      " 78  SalePrice      1460 non-null   float64\n",
      "dtypes: float64(12), int64(25), object(42)\n",
      "memory usage: 1.8+ MB\n"
     ]
    }
   ],
   "source": [
    "data.info()"
   ]
  },
  {
   "cell_type": "markdown",
   "metadata": {
    "papermill": {
     "duration": 0.019769,
     "end_time": "2020-08-15T12:50:47.684732",
     "exception": false,
     "start_time": "2020-08-15T12:50:47.664963",
     "status": "completed"
    },
    "tags": []
   },
   "source": [
    "No missing values"
   ]
  },
  {
   "cell_type": "code",
   "execution_count": 28,
   "metadata": {
    "execution": {
     "iopub.execute_input": "2020-08-15T12:50:47.752338Z",
     "iopub.status.busy": "2020-08-15T12:50:47.740496Z",
     "iopub.status.idle": "2020-08-15T12:50:47.755715Z",
     "shell.execute_reply": "2020-08-15T12:50:47.756357Z"
    },
    "papermill": {
     "duration": 0.051765,
     "end_time": "2020-08-15T12:50:47.756634",
     "exception": false,
     "start_time": "2020-08-15T12:50:47.704869",
     "status": "completed"
    },
    "tags": []
   },
   "outputs": [],
   "source": [
    "# Transformando algumas variáveis numericas que na verdade são categoricas\n",
    "\n",
    "# MSSubClass=Sem aula de construção\n",
    "data['MSSubClass'] = data['MSSubClass'].apply(str)\n",
    "\n",
    "\n",
    "# Mudando OverallCond para variavel categorica\n",
    "data['OverallCond'] = data['OverallCond'].astype(str)\n",
    "\n",
    "\n",
    "# Ano e mes vendido transformados para variáveis categoricas\n",
    "data['YrSold'] = data['YrSold'].astype(str)\n",
    "data['MoSold'] = data['MoSold'].astype(str)"
   ]
  },
  {
   "cell_type": "code",
   "execution_count": 29,
   "metadata": {
    "execution": {
     "iopub.execute_input": "2020-08-15T12:50:47.808693Z",
     "iopub.status.busy": "2020-08-15T12:50:47.807519Z",
     "iopub.status.idle": "2020-08-15T12:50:47.900631Z",
     "shell.execute_reply": "2020-08-15T12:50:47.899782Z"
    },
    "papermill": {
     "duration": 0.124612,
     "end_time": "2020-08-15T12:50:47.900772",
     "exception": false,
     "start_time": "2020-08-15T12:50:47.776160",
     "status": "completed"
    },
    "tags": []
   },
   "outputs": [
    {
     "name": "stdout",
     "output_type": "stream",
     "text": [
      "Shape data: (2919, 79)\n"
     ]
    }
   ],
   "source": [
    "# Aplicando Label Encoding em algumas variáveis categóricas que podem conter informações em seu conjunto de ordenação\n",
    "\n",
    "from sklearn.preprocessing import LabelEncoder\n",
    "cols = ('FireplaceQu', 'BsmtQual', 'BsmtCond', 'GarageQual', 'GarageCond', \n",
    "        'ExterQual', 'ExterCond','HeatingQC', 'PoolQC', 'KitchenQual', 'BsmtFinType1', \n",
    "        'BsmtFinType2', 'Functional', 'Fence', 'BsmtExposure', 'GarageFinish', 'LandSlope',\n",
    "        'LotShape', 'PavedDrive', 'Street', 'Alley', 'CentralAir', 'MSSubClass', 'OverallCond', \n",
    "        'YrSold', 'MoSold')\n",
    "# Processa as colunas, e aplica LabelEncoder para variáveis categoricas\n",
    "for c in cols:\n",
    "    lbl = LabelEncoder() \n",
    "    lbl.fit(list(data[c].values)) \n",
    "    data[c] = lbl.transform(list(data[c].values))\n",
    "\n",
    "# Formato        \n",
    "print('Shape data: {}'.format(data.shape))"
   ]
  },
  {
   "cell_type": "code",
   "execution_count": 30,
   "metadata": {
    "execution": {
     "iopub.execute_input": "2020-08-15T12:50:47.950902Z",
     "iopub.status.busy": "2020-08-15T12:50:47.950082Z",
     "iopub.status.idle": "2020-08-15T12:50:47.997793Z",
     "shell.execute_reply": "2020-08-15T12:50:47.996934Z"
    },
    "papermill": {
     "duration": 0.07659,
     "end_time": "2020-08-15T12:50:47.997950",
     "exception": false,
     "start_time": "2020-08-15T12:50:47.921360",
     "status": "completed"
    },
    "tags": []
   },
   "outputs": [
    {
     "name": "stdout",
     "output_type": "stream",
     "text": [
      "(2919, 221)\n"
     ]
    }
   ],
   "source": [
    "# Representa as variáveis categoricas de uma forma numérica\n",
    "data = pd.get_dummies(data)\n",
    "print(data.shape)"
   ]
  },
  {
   "cell_type": "code",
   "execution_count": 31,
   "metadata": {
    "execution": {
     "iopub.execute_input": "2020-08-15T12:50:48.050608Z",
     "iopub.status.busy": "2020-08-15T12:50:48.049729Z",
     "iopub.status.idle": "2020-08-15T12:50:48.060768Z",
     "shell.execute_reply": "2020-08-15T12:50:48.059929Z"
    },
    "papermill": {
     "duration": 0.040826,
     "end_time": "2020-08-15T12:50:48.060929",
     "exception": false,
     "start_time": "2020-08-15T12:50:48.020103",
     "status": "completed"
    },
    "tags": []
   },
   "outputs": [],
   "source": [
    "train = data[:1460]\n",
    "test = data[1460:].drop('SalePrice', axis = 1)"
   ]
  },
  {
   "cell_type": "code",
   "execution_count": 32,
   "metadata": {
    "execution": {
     "iopub.execute_input": "2020-08-15T12:50:48.108738Z",
     "iopub.status.busy": "2020-08-15T12:50:48.107005Z",
     "iopub.status.idle": "2020-08-15T12:50:48.112843Z",
     "shell.execute_reply": "2020-08-15T12:50:48.112150Z"
    },
    "papermill": {
     "duration": 0.032043,
     "end_time": "2020-08-15T12:50:48.112978",
     "exception": false,
     "start_time": "2020-08-15T12:50:48.080935",
     "status": "completed"
    },
    "tags": []
   },
   "outputs": [
    {
     "data": {
      "text/plain": [
       "((1460, 221), (1459, 220))"
      ]
     },
     "execution_count": 32,
     "metadata": {},
     "output_type": "execute_result"
    }
   ],
   "source": [
    "train.shape, test.shape"
   ]
  },
  {
   "cell_type": "markdown",
   "metadata": {
    "papermill": {
     "duration": 0.020664,
     "end_time": "2020-08-15T12:50:48.207999",
     "exception": false,
     "start_time": "2020-08-15T12:50:48.187335",
     "status": "completed"
    },
    "tags": []
   },
   "source": [
    "# Modelo"
   ]
  },
  {
   "cell_type": "code",
   "execution_count": 33,
   "metadata": {
    "execution": {
     "iopub.execute_input": "2020-08-15T12:50:48.257313Z",
     "iopub.status.busy": "2020-08-15T12:50:48.256358Z",
     "iopub.status.idle": "2020-08-15T12:50:48.260857Z",
     "shell.execute_reply": "2020-08-15T12:50:48.260001Z"
    },
    "papermill": {
     "duration": 0.0326,
     "end_time": "2020-08-15T12:50:48.261007",
     "exception": false,
     "start_time": "2020-08-15T12:50:48.228407",
     "status": "completed"
    },
    "tags": []
   },
   "outputs": [],
   "source": [
    "X = train.drop('SalePrice', axis = 1)\n",
    "y = train['SalePrice']"
   ]
  },
  {
   "cell_type": "code",
   "execution_count": 34,
   "metadata": {
    "execution": {
     "iopub.execute_input": "2020-08-15T12:50:48.309190Z",
     "iopub.status.busy": "2020-08-15T12:50:48.308192Z",
     "iopub.status.idle": "2020-08-15T12:50:48.318850Z",
     "shell.execute_reply": "2020-08-15T12:50:48.317991Z"
    },
    "papermill": {
     "duration": 0.037689,
     "end_time": "2020-08-15T12:50:48.318993",
     "exception": false,
     "start_time": "2020-08-15T12:50:48.281304",
     "status": "completed"
    },
    "tags": []
   },
   "outputs": [],
   "source": [
    "# Divide a base em treino e validação\n",
    "X_train, X_test, y_train, y_test = train_test_split(X, y, test_size=0.2, random_state = 42)"
   ]
  },
  {
   "cell_type": "markdown",
   "metadata": {
    "papermill": {
     "duration": 0.021382,
     "end_time": "2020-08-15T12:50:48.362135",
     "exception": false,
     "start_time": "2020-08-15T12:50:48.340753",
     "status": "completed"
    },
    "tags": []
   },
   "source": [
    "* XGBRegressor"
   ]
  },
  {
   "cell_type": "code",
   "execution_count": 35,
   "metadata": {
    "execution": {
     "iopub.execute_input": "2020-08-15T12:50:48.414064Z",
     "iopub.status.busy": "2020-08-15T12:50:48.412945Z",
     "iopub.status.idle": "2020-08-15T12:50:48.416791Z",
     "shell.execute_reply": "2020-08-15T12:50:48.415908Z"
    },
    "papermill": {
     "duration": 0.033529,
     "end_time": "2020-08-15T12:50:48.416953",
     "exception": false,
     "start_time": "2020-08-15T12:50:48.383424",
     "status": "completed"
    },
    "tags": []
   },
   "outputs": [],
   "source": [
    "xgb = XGBRegressor(booster='gbtree', colsample_bylevel=1,\n",
    "                   colsample_bynode=1,colsample_bytree=0.6,\n",
    "                   gamma=0, importance_type='gain',\n",
    "                   learning_rate=0.01, max_delta_step=0,\n",
    "                   max_depth=4,min_child_weight=1.5,\n",
    "                   n_estimators=2500, n_jobs=1, nthread=None,\n",
    "                   objective='reg:linear', reg_alpha=0.4640,\n",
    "                   reg_lambda=0.6, scale_pos_weight=1,\n",
    "                   silent=None, subsample=0.8, verbosity=1)"
   ]
  },
  {
   "cell_type": "markdown",
   "metadata": {
    "papermill": {
     "duration": 0.021857,
     "end_time": "2020-08-15T12:50:48.459321",
     "exception": false,
     "start_time": "2020-08-15T12:50:48.437464",
     "status": "completed"
    },
    "tags": []
   },
   "source": [
    "* LGBMRegressor"
   ]
  },
  {
   "cell_type": "code",
   "execution_count": 36,
   "metadata": {
    "execution": {
     "iopub.execute_input": "2020-08-15T12:50:48.508075Z",
     "iopub.status.busy": "2020-08-15T12:50:48.507046Z",
     "iopub.status.idle": "2020-08-15T12:50:48.511497Z",
     "shell.execute_reply": "2020-08-15T12:50:48.512081Z"
    },
    "papermill": {
     "duration": 0.032346,
     "end_time": "2020-08-15T12:50:48.512258",
     "exception": false,
     "start_time": "2020-08-15T12:50:48.479912",
     "status": "completed"
    },
    "tags": []
   },
   "outputs": [],
   "source": [
    "lgbm = LGBMRegressor(objective='regression',\n",
    "                    num_leaves=4,\n",
    "                    learning_rate=0.01,\n",
    "                    n_estimators=11000,\n",
    "                    max_bin=200,\n",
    "                    bagging_fraction=0.75,\n",
    "                    bagging_freq=5,\n",
    "                    bagging_seed=7,\n",
    "                    feature_fraction=0.4)"
   ]
  },
  {
   "cell_type": "markdown",
   "metadata": {
    "papermill": {
     "duration": 0.02012,
     "end_time": "2020-08-15T12:50:48.552785",
     "exception": false,
     "start_time": "2020-08-15T12:50:48.532665",
     "status": "completed"
    },
    "tags": []
   },
   "source": [
    "* GradientBoostingRegressor"
   ]
  },
  {
   "cell_type": "code",
   "execution_count": 37,
   "metadata": {
    "execution": {
     "iopub.execute_input": "2020-08-15T12:50:48.603423Z",
     "iopub.status.busy": "2020-08-15T12:50:48.602231Z",
     "iopub.status.idle": "2020-08-15T12:50:48.606894Z",
     "shell.execute_reply": "2020-08-15T12:50:48.606117Z"
    },
    "papermill": {
     "duration": 0.034082,
     "end_time": "2020-08-15T12:50:48.607047",
     "exception": false,
     "start_time": "2020-08-15T12:50:48.572965",
     "status": "completed"
    },
    "tags": []
   },
   "outputs": [],
   "source": [
    "gboost = GradientBoostingRegressor(n_estimators=3000, \n",
    "                                   learning_rate=0.05,\n",
    "                                   max_depth=4, \n",
    "                                   max_features='sqrt',\n",
    "                                   min_samples_leaf=15, \n",
    "                                   min_samples_split=10, \n",
    "                                   loss='huber', \n",
    "                                   random_state =5)"
   ]
  },
  {
   "cell_type": "markdown",
   "metadata": {
    "papermill": {
     "duration": 0.020216,
     "end_time": "2020-08-15T12:50:48.648097",
     "exception": false,
     "start_time": "2020-08-15T12:50:48.627881",
     "status": "completed"
    },
    "tags": []
   },
   "source": [
    "## Ajusta e valida os modelos"
   ]
  },
  {
   "cell_type": "code",
   "execution_count": 38,
   "metadata": {
    "execution": {
     "iopub.execute_input": "2020-08-15T12:50:48.703227Z",
     "iopub.status.busy": "2020-08-15T12:50:48.702383Z",
     "iopub.status.idle": "2020-08-15T12:51:23.501248Z",
     "shell.execute_reply": "2020-08-15T12:51:23.501928Z"
    },
    "papermill": {
     "duration": 34.833393,
     "end_time": "2020-08-15T12:51:23.502113",
     "exception": false,
     "start_time": "2020-08-15T12:50:48.668720",
     "status": "completed"
    },
    "tags": []
   },
   "outputs": [
    {
     "name": "stdout",
     "output_type": "stream",
     "text": [
      "[12:50:48] WARNING: /workspace/src/objective/regression_obj.cu:170: reg:linear is now deprecated in favor of reg:squarederror.\n",
      "[12:51:07] WARNING: /workspace/src/objective/regression_obj.cu:170: reg:linear is now deprecated in favor of reg:squarederror.\n"
     ]
    },
    {
     "data": {
      "text/plain": [
       "GradientBoostingRegressor(learning_rate=0.05, loss='huber', max_depth=4,\n",
       "                          max_features='sqrt', min_samples_leaf=15,\n",
       "                          min_samples_split=10, n_estimators=3000,\n",
       "                          random_state=5)"
      ]
     },
     "execution_count": 38,
     "metadata": {},
     "output_type": "execute_result"
    }
   ],
   "source": [
    "xgb.fit(X_train, y_train)\n",
    "lgbm.fit(X_train, y_train, eval_metric='rmsle')\n",
    "gboost.fit(X_train, y_train)"
   ]
  },
  {
   "cell_type": "code",
   "execution_count": 39,
   "metadata": {
    "execution": {
     "iopub.execute_input": "2020-08-15T12:51:23.556466Z",
     "iopub.status.busy": "2020-08-15T12:51:23.555662Z",
     "iopub.status.idle": "2020-08-15T12:51:23.921249Z",
     "shell.execute_reply": "2020-08-15T12:51:23.920604Z"
    },
    "papermill": {
     "duration": 0.39794,
     "end_time": "2020-08-15T12:51:23.921403",
     "exception": false,
     "start_time": "2020-08-15T12:51:23.523463",
     "status": "completed"
    },
    "tags": []
   },
   "outputs": [],
   "source": [
    "pred2 = xgb.predict(X_test)\n",
    "pred3 = lgbm.predict(X_test)\n",
    "pred4 = gboost.predict(X_test)"
   ]
  },
  {
   "cell_type": "code",
   "execution_count": 40,
   "metadata": {
    "execution": {
     "iopub.execute_input": "2020-08-15T12:51:23.973170Z",
     "iopub.status.busy": "2020-08-15T12:51:23.972180Z",
     "iopub.status.idle": "2020-08-15T12:51:23.979332Z",
     "shell.execute_reply": "2020-08-15T12:51:23.978715Z"
    },
    "papermill": {
     "duration": 0.037295,
     "end_time": "2020-08-15T12:51:23.979479",
     "exception": false,
     "start_time": "2020-08-15T12:51:23.942184",
     "status": "completed"
    },
    "tags": []
   },
   "outputs": [
    {
     "name": "stdout",
     "output_type": "stream",
     "text": [
      "Erro médio logarítmico de raiz quadrado test (XGB) = 0.010442551631785863\n",
      "Erro médio logarítmico de raiz quadrado test (LGBM) = 0.01065575032268472\n",
      "Erro médio logarítmico de raiz quadrado test (GBoost) = 0.01037617743944091\n"
     ]
    }
   ],
   "source": [
    "print('Erro médio logarítmico de raiz quadrado test (XGB) = ' + str(math.sqrt(metrics.mean_squared_log_error(y_test, pred2))))\n",
    "print('Erro médio logarítmico de raiz quadrado test (LGBM) = ' + str(math.sqrt(metrics.mean_squared_log_error(y_test, pred3))))\n",
    "print('Erro médio logarítmico de raiz quadrado test (GBoost) = ' + str(math.sqrt(metrics.mean_squared_log_error(y_test, pred4))))"
   ]
  },
  {
   "cell_type": "markdown",
   "metadata": {
    "papermill": {
     "duration": 0.021701,
     "end_time": "2020-08-15T12:51:24.023199",
     "exception": false,
     "start_time": "2020-08-15T12:51:24.001498",
     "status": "completed"
    },
    "tags": []
   },
   "source": [
    "## Treino e Previsão (Usando toda a base de dados)"
   ]
  },
  {
   "cell_type": "code",
   "execution_count": 41,
   "metadata": {
    "execution": {
     "iopub.execute_input": "2020-08-15T12:51:24.072899Z",
     "iopub.status.busy": "2020-08-15T12:51:24.072024Z",
     "iopub.status.idle": "2020-08-15T12:52:04.602364Z",
     "shell.execute_reply": "2020-08-15T12:52:04.602984Z"
    },
    "papermill": {
     "duration": 40.558361,
     "end_time": "2020-08-15T12:52:04.603161",
     "exception": false,
     "start_time": "2020-08-15T12:51:24.044800",
     "status": "completed"
    },
    "tags": []
   },
   "outputs": [
    {
     "name": "stdout",
     "output_type": "stream",
     "text": [
      "[12:51:29] WARNING: /workspace/src/objective/regression_obj.cu:170: reg:linear is now deprecated in favor of reg:squarederror.\n",
      "[12:51:52] WARNING: /workspace/src/objective/regression_obj.cu:170: reg:linear is now deprecated in favor of reg:squarederror.\n"
     ]
    },
    {
     "data": {
      "text/plain": [
       "GradientBoostingRegressor(learning_rate=0.05, loss='huber', max_depth=4,\n",
       "                          max_features='sqrt', min_samples_leaf=15,\n",
       "                          min_samples_split=10, n_estimators=3000,\n",
       "                          random_state=5)"
      ]
     },
     "execution_count": 41,
     "metadata": {},
     "output_type": "execute_result"
    }
   ],
   "source": [
    "lgbm.fit(X, y)   # 0.12269 \n",
    "xgb.fit(X ,y)    # 0.12495\n",
    "gboost.fit(X, y) # 0.12333"
   ]
  },
  {
   "cell_type": "code",
   "execution_count": 42,
   "metadata": {
    "execution": {
     "iopub.execute_input": "2020-08-15T12:52:04.652840Z",
     "iopub.status.busy": "2020-08-15T12:52:04.651962Z",
     "iopub.status.idle": "2020-08-15T12:52:05.842902Z",
     "shell.execute_reply": "2020-08-15T12:52:05.841994Z"
    },
    "papermill": {
     "duration": 1.218855,
     "end_time": "2020-08-15T12:52:05.843049",
     "exception": false,
     "start_time": "2020-08-15T12:52:04.624194",
     "status": "completed"
    },
    "tags": []
   },
   "outputs": [],
   "source": [
    "prediction_lgbm =  np.expm1(lgbm.predict(test))\n",
    "prediction_xgb = np.expm1(xgb.predict(test))\n",
    "prediction_gboost = np.expm1(gboost.predict(test))"
   ]
  },
  {
   "cell_type": "code",
   "execution_count": 43,
   "metadata": {
    "execution": {
     "iopub.execute_input": "2020-08-15T12:52:05.893121Z",
     "iopub.status.busy": "2020-08-15T12:52:05.892247Z",
     "iopub.status.idle": "2020-08-15T12:52:05.896834Z",
     "shell.execute_reply": "2020-08-15T12:52:05.896130Z"
    },
    "papermill": {
     "duration": 0.03249,
     "end_time": "2020-08-15T12:52:05.896971",
     "exception": false,
     "start_time": "2020-08-15T12:52:05.864481",
     "status": "completed"
    },
    "tags": []
   },
   "outputs": [
    {
     "data": {
      "text/plain": [
       "'\\nprediction = ( prediction_lgbm * 0.38 + prediction_gboost * 0.35 + prediction_xgb * 0.27)   # 0.12006\\nprediction = ( prediction_lgbm * 0.4 + prediction_gboost * 0.35 + prediction_xgb * 0.25)    # 0.12007\\nprediction = ( prediction_lgbm * 0.45 + prediction_gboost * 0.35 + prediction_xgb * 0.2)    # 0.12012\\nprediction = ( prediction_lgbm * 0.55 + prediction_gboost * 0.45)                           # 0.12061\\nprediction = ( prediction_lgbm * 0.45 + prediction_gboost * 0.55)                           # 0.12069\\nprediction = ( prediction_gboost * 0.15 + prediction_lgbm * 0.7 + prediction_gboost * 0.15) # 0.12086\\nprediction = ( prediction_gboost * 0.2 + prediction_lgbm * 0.5 + prediction_gboost * 0.3)   # 0.12154\\nprediction = ( prediction_lgbm * 0.55 + prediction_xgb * 0.45)                              # 0.12155\\n'"
      ]
     },
     "execution_count": 43,
     "metadata": {},
     "output_type": "execute_result"
    }
   ],
   "source": [
    "\"\"\"\n",
    "prediction = ( prediction_lgbm * 0.38 + prediction_gboost * 0.35 + prediction_xgb * 0.27)   # 0.12006\n",
    "prediction = ( prediction_lgbm * 0.4 + prediction_gboost * 0.35 + prediction_xgb * 0.25)    # 0.12007\n",
    "prediction = ( prediction_lgbm * 0.45 + prediction_gboost * 0.35 + prediction_xgb * 0.2)    # 0.12012\n",
    "prediction = ( prediction_lgbm * 0.55 + prediction_gboost * 0.45)                           # 0.12061\n",
    "prediction = ( prediction_lgbm * 0.45 + prediction_gboost * 0.55)                           # 0.12069\n",
    "prediction = ( prediction_gboost * 0.15 + prediction_lgbm * 0.7 + prediction_gboost * 0.15) # 0.12086\n",
    "prediction = ( prediction_gboost * 0.2 + prediction_lgbm * 0.5 + prediction_gboost * 0.3)   # 0.12154\n",
    "prediction = ( prediction_lgbm * 0.55 + prediction_xgb * 0.45)                              # 0.12155\n",
    "\"\"\""
   ]
  },
  {
   "cell_type": "code",
   "execution_count": 44,
   "metadata": {
    "execution": {
     "iopub.execute_input": "2020-08-15T12:52:05.946197Z",
     "iopub.status.busy": "2020-08-15T12:52:05.945334Z",
     "iopub.status.idle": "2020-08-15T12:52:05.948879Z",
     "shell.execute_reply": "2020-08-15T12:52:05.948220Z"
    },
    "papermill": {
     "duration": 0.030588,
     "end_time": "2020-08-15T12:52:05.949029",
     "exception": false,
     "start_time": "2020-08-15T12:52:05.918441",
     "status": "completed"
    },
    "tags": []
   },
   "outputs": [],
   "source": [
    "prediction = ( prediction_lgbm * 0.38 + prediction_gboost * 0.36 + prediction_xgb * 0.26)   # 0.12006"
   ]
  },
  {
   "cell_type": "markdown",
   "metadata": {
    "papermill": {
     "duration": 0.021984,
     "end_time": "2020-08-15T12:52:05.993200",
     "exception": false,
     "start_time": "2020-08-15T12:52:05.971216",
     "status": "completed"
    },
    "tags": []
   },
   "source": [
    "## Submissão"
   ]
  },
  {
   "cell_type": "code",
   "execution_count": 45,
   "metadata": {
    "execution": {
     "iopub.execute_input": "2020-08-15T12:52:06.044503Z",
     "iopub.status.busy": "2020-08-15T12:52:06.043700Z",
     "iopub.status.idle": "2020-08-15T12:52:06.047310Z",
     "shell.execute_reply": "2020-08-15T12:52:06.046664Z"
    },
    "papermill": {
     "duration": 0.03206,
     "end_time": "2020-08-15T12:52:06.047452",
     "exception": false,
     "start_time": "2020-08-15T12:52:06.015392",
     "status": "completed"
    },
    "tags": []
   },
   "outputs": [],
   "source": [
    "# Tranforma o resultado em um DataFrame\n",
    "submission = pd.DataFrame({\"Id\": test.index,\"SalePrice\": prediction})"
   ]
  },
  {
   "cell_type": "code",
   "execution_count": 46,
   "metadata": {
    "execution": {
     "iopub.execute_input": "2020-08-15T12:52:06.097541Z",
     "iopub.status.busy": "2020-08-15T12:52:06.096575Z",
     "iopub.status.idle": "2020-08-15T12:52:06.164732Z",
     "shell.execute_reply": "2020-08-15T12:52:06.163860Z"
    },
    "papermill": {
     "duration": 0.095344,
     "end_time": "2020-08-15T12:52:06.164894",
     "exception": false,
     "start_time": "2020-08-15T12:52:06.069550",
     "status": "completed"
    },
    "tags": []
   },
   "outputs": [],
   "source": [
    "# Transforma o DataFrame em um arquivo csv para ser submetido no kaggle.\n",
    "submission.to_csv('submission.csv', index=False)"
   ]
  },
  {
   "cell_type": "markdown",
   "metadata": {
    "papermill": {
     "duration": 0.021724,
     "end_time": "2020-08-15T12:52:06.209068",
     "exception": false,
     "start_time": "2020-08-15T12:52:06.187344",
     "status": "completed"
    },
    "tags": []
   },
   "source": [
    "#### Se o notebook tiver sido útil, dê um upvote!"
   ]
  },
  {
   "cell_type": "markdown",
   "metadata": {
    "papermill": {
     "duration": 0.021815,
     "end_time": "2020-08-15T12:52:06.252791",
     "exception": false,
     "start_time": "2020-08-15T12:52:06.230976",
     "status": "completed"
    },
    "tags": []
   },
   "source": [
    "# Fontes:\n",
    "    \n",
    "1. https://www.kaggle.com/serigne/stacked-regressions-top-4-on-leaderboard#Modelling\n",
    "2. https://www.kaggle.com/fedi1996/house-prices-data-cleaning-viz-and-modeling"
   ]
  },
  {
   "cell_type": "code",
   "execution_count": null,
   "metadata": {
    "papermill": {
     "duration": 0.022993,
     "end_time": "2020-08-15T12:52:06.298095",
     "exception": false,
     "start_time": "2020-08-15T12:52:06.275102",
     "status": "completed"
    },
    "tags": []
   },
   "outputs": [],
   "source": []
  }
 ],
 "metadata": {
  "kernelspec": {
   "display_name": "Python 3",
   "language": "python",
   "name": "python3"
  },
  "language_info": {
   "codemirror_mode": {
    "name": "ipython",
    "version": 3
   },
   "file_extension": ".py",
   "mimetype": "text/x-python",
   "name": "python",
   "nbconvert_exporter": "python",
   "pygments_lexer": "ipython3",
   "version": "3.7.7"
  },
  "papermill": {
   "duration": 90.680061,
   "end_time": "2020-08-15T12:52:06.429417",
   "environment_variables": {},
   "exception": null,
   "input_path": "__notebook__.ipynb",
   "output_path": "__notebook__.ipynb",
   "parameters": {},
   "start_time": "2020-08-15T12:50:35.749356",
   "version": "2.1.0"
  }
 },
 "nbformat": 4,
 "nbformat_minor": 4
}
