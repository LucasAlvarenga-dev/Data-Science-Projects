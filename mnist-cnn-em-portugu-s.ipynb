{
 "cells": [
  {
   "cell_type": "markdown",
   "metadata": {
    "papermill": {
     "duration": 0.008226,
     "end_time": "2020-08-11T01:59:53.865197",
     "exception": false,
     "start_time": "2020-08-11T01:59:53.856971",
     "status": "completed"
    },
    "tags": []
   },
   "source": [
    "# Introdução"
   ]
  },
  {
   "cell_type": "markdown",
   "metadata": {
    "papermill": {
     "duration": 0.0064,
     "end_time": "2020-08-11T01:59:53.891892",
     "exception": false,
     "start_time": "2020-08-11T01:59:53.885492",
     "status": "completed"
    },
    "tags": []
   },
   "source": [
    "MNIST é uma base de dados com números \"desenhados\" e com seus respectivos rotulos que indicam qual número esta desenhado. Nesse desafio, temos a base de dados com os rótulos que será usada para treinar o modelo(base de treino), e a sem rótulos, que devemos prever qual número será.\n",
    "\n",
    "Para isso, no código, usou-se a API keras(Tensorflow backend) e oubteu-se uma acurácia de  99,47%."
   ]
  },
  {
   "cell_type": "markdown",
   "metadata": {
    "papermill": {
     "duration": 0.006489,
     "end_time": "2020-08-11T01:59:53.906717",
     "exception": false,
     "start_time": "2020-08-11T01:59:53.900228",
     "status": "completed"
    },
    "tags": []
   },
   "source": [
    "# Importações Iniciais"
   ]
  },
  {
   "cell_type": "code",
   "execution_count": 1,
   "metadata": {
    "execution": {
     "iopub.execute_input": "2020-08-11T01:59:53.931852Z",
     "iopub.status.busy": "2020-08-11T01:59:53.931243Z",
     "iopub.status.idle": "2020-08-11T01:59:59.197366Z",
     "shell.execute_reply": "2020-08-11T01:59:59.196198Z"
    },
    "papermill": {
     "duration": 5.284113,
     "end_time": "2020-08-11T01:59:59.197528",
     "exception": false,
     "start_time": "2020-08-11T01:59:53.913415",
     "status": "completed"
    },
    "tags": []
   },
   "outputs": [],
   "source": [
    "import numpy as np # Algebra linear\n",
    "import pandas as pd\n",
    "import tensorflow as tf\n",
    "import matplotlib.pyplot as plt\n",
    "%matplotlib inline\n",
    "\n",
    "\n",
    "import itertools\n",
    "from sklearn.model_selection import train_test_split\n",
    "\n",
    "from tensorflow.keras.utils import to_categorical #(one-hot-encoding)\n",
    "from tensorflow.keras.models import Sequential\n",
    "from tensorflow.keras.layers import Dense, Dropout, Flatten, Conv2D, MaxPool2D, MaxPooling2D\n",
    "from tensorflow.keras.optimizers import RMSprop\n",
    "from tensorflow.keras.preprocessing.image import ImageDataGenerator\n",
    "from tensorflow.keras.callbacks import ReduceLROnPlateau"
   ]
  },
  {
   "cell_type": "code",
   "execution_count": 2,
   "metadata": {
    "execution": {
     "iopub.execute_input": "2020-08-11T01:59:59.218949Z",
     "iopub.status.busy": "2020-08-11T01:59:59.218344Z",
     "iopub.status.idle": "2020-08-11T02:00:04.113540Z",
     "shell.execute_reply": "2020-08-11T02:00:04.112742Z"
    },
    "papermill": {
     "duration": 4.908683,
     "end_time": "2020-08-11T02:00:04.113663",
     "exception": false,
     "start_time": "2020-08-11T01:59:59.204980",
     "status": "completed"
    },
    "tags": []
   },
   "outputs": [],
   "source": [
    "# Importando a base de dados\n",
    "train = pd.read_csv('/kaggle/input/digit-recognizer/train.csv')\n",
    "test = pd.read_csv('/kaggle/input/digit-recognizer/test.csv')"
   ]
  },
  {
   "cell_type": "code",
   "execution_count": 3,
   "metadata": {
    "execution": {
     "iopub.execute_input": "2020-08-11T02:00:04.135850Z",
     "iopub.status.busy": "2020-08-11T02:00:04.135092Z",
     "iopub.status.idle": "2020-08-11T02:00:04.139139Z",
     "shell.execute_reply": "2020-08-11T02:00:04.139663Z"
    },
    "papermill": {
     "duration": 0.018589,
     "end_time": "2020-08-11T02:00:04.139780",
     "exception": false,
     "start_time": "2020-08-11T02:00:04.121191",
     "status": "completed"
    },
    "tags": []
   },
   "outputs": [
    {
     "data": {
      "text/plain": [
       "((42000, 785), (28000, 784))"
      ]
     },
     "execution_count": 3,
     "metadata": {},
     "output_type": "execute_result"
    }
   ],
   "source": [
    "train.shape, test.shape # Modo como os dados estão estrutudados (42000 linhas, 785 colunas), (28000 linhas, 784 colunas) "
   ]
  },
  {
   "cell_type": "code",
   "execution_count": 4,
   "metadata": {
    "execution": {
     "iopub.execute_input": "2020-08-11T02:00:04.169169Z",
     "iopub.status.busy": "2020-08-11T02:00:04.166883Z",
     "iopub.status.idle": "2020-08-11T02:00:04.181581Z",
     "shell.execute_reply": "2020-08-11T02:00:04.182017Z"
    },
    "papermill": {
     "duration": 0.035317,
     "end_time": "2020-08-11T02:00:04.182138",
     "exception": false,
     "start_time": "2020-08-11T02:00:04.146821",
     "status": "completed"
    },
    "tags": []
   },
   "outputs": [
    {
     "data": {
      "text/html": [
       "<div>\n",
       "<style scoped>\n",
       "    .dataframe tbody tr th:only-of-type {\n",
       "        vertical-align: middle;\n",
       "    }\n",
       "\n",
       "    .dataframe tbody tr th {\n",
       "        vertical-align: top;\n",
       "    }\n",
       "\n",
       "    .dataframe thead th {\n",
       "        text-align: right;\n",
       "    }\n",
       "</style>\n",
       "<table border=\"1\" class=\"dataframe\">\n",
       "  <thead>\n",
       "    <tr style=\"text-align: right;\">\n",
       "      <th></th>\n",
       "      <th>label</th>\n",
       "      <th>pixel0</th>\n",
       "      <th>pixel1</th>\n",
       "      <th>pixel2</th>\n",
       "      <th>pixel3</th>\n",
       "      <th>pixel4</th>\n",
       "      <th>pixel5</th>\n",
       "      <th>pixel6</th>\n",
       "      <th>pixel7</th>\n",
       "      <th>pixel8</th>\n",
       "      <th>...</th>\n",
       "      <th>pixel774</th>\n",
       "      <th>pixel775</th>\n",
       "      <th>pixel776</th>\n",
       "      <th>pixel777</th>\n",
       "      <th>pixel778</th>\n",
       "      <th>pixel779</th>\n",
       "      <th>pixel780</th>\n",
       "      <th>pixel781</th>\n",
       "      <th>pixel782</th>\n",
       "      <th>pixel783</th>\n",
       "    </tr>\n",
       "  </thead>\n",
       "  <tbody>\n",
       "    <tr>\n",
       "      <th>0</th>\n",
       "      <td>1</td>\n",
       "      <td>0</td>\n",
       "      <td>0</td>\n",
       "      <td>0</td>\n",
       "      <td>0</td>\n",
       "      <td>0</td>\n",
       "      <td>0</td>\n",
       "      <td>0</td>\n",
       "      <td>0</td>\n",
       "      <td>0</td>\n",
       "      <td>...</td>\n",
       "      <td>0</td>\n",
       "      <td>0</td>\n",
       "      <td>0</td>\n",
       "      <td>0</td>\n",
       "      <td>0</td>\n",
       "      <td>0</td>\n",
       "      <td>0</td>\n",
       "      <td>0</td>\n",
       "      <td>0</td>\n",
       "      <td>0</td>\n",
       "    </tr>\n",
       "    <tr>\n",
       "      <th>1</th>\n",
       "      <td>0</td>\n",
       "      <td>0</td>\n",
       "      <td>0</td>\n",
       "      <td>0</td>\n",
       "      <td>0</td>\n",
       "      <td>0</td>\n",
       "      <td>0</td>\n",
       "      <td>0</td>\n",
       "      <td>0</td>\n",
       "      <td>0</td>\n",
       "      <td>...</td>\n",
       "      <td>0</td>\n",
       "      <td>0</td>\n",
       "      <td>0</td>\n",
       "      <td>0</td>\n",
       "      <td>0</td>\n",
       "      <td>0</td>\n",
       "      <td>0</td>\n",
       "      <td>0</td>\n",
       "      <td>0</td>\n",
       "      <td>0</td>\n",
       "    </tr>\n",
       "    <tr>\n",
       "      <th>2</th>\n",
       "      <td>1</td>\n",
       "      <td>0</td>\n",
       "      <td>0</td>\n",
       "      <td>0</td>\n",
       "      <td>0</td>\n",
       "      <td>0</td>\n",
       "      <td>0</td>\n",
       "      <td>0</td>\n",
       "      <td>0</td>\n",
       "      <td>0</td>\n",
       "      <td>...</td>\n",
       "      <td>0</td>\n",
       "      <td>0</td>\n",
       "      <td>0</td>\n",
       "      <td>0</td>\n",
       "      <td>0</td>\n",
       "      <td>0</td>\n",
       "      <td>0</td>\n",
       "      <td>0</td>\n",
       "      <td>0</td>\n",
       "      <td>0</td>\n",
       "    </tr>\n",
       "    <tr>\n",
       "      <th>3</th>\n",
       "      <td>4</td>\n",
       "      <td>0</td>\n",
       "      <td>0</td>\n",
       "      <td>0</td>\n",
       "      <td>0</td>\n",
       "      <td>0</td>\n",
       "      <td>0</td>\n",
       "      <td>0</td>\n",
       "      <td>0</td>\n",
       "      <td>0</td>\n",
       "      <td>...</td>\n",
       "      <td>0</td>\n",
       "      <td>0</td>\n",
       "      <td>0</td>\n",
       "      <td>0</td>\n",
       "      <td>0</td>\n",
       "      <td>0</td>\n",
       "      <td>0</td>\n",
       "      <td>0</td>\n",
       "      <td>0</td>\n",
       "      <td>0</td>\n",
       "    </tr>\n",
       "    <tr>\n",
       "      <th>4</th>\n",
       "      <td>0</td>\n",
       "      <td>0</td>\n",
       "      <td>0</td>\n",
       "      <td>0</td>\n",
       "      <td>0</td>\n",
       "      <td>0</td>\n",
       "      <td>0</td>\n",
       "      <td>0</td>\n",
       "      <td>0</td>\n",
       "      <td>0</td>\n",
       "      <td>...</td>\n",
       "      <td>0</td>\n",
       "      <td>0</td>\n",
       "      <td>0</td>\n",
       "      <td>0</td>\n",
       "      <td>0</td>\n",
       "      <td>0</td>\n",
       "      <td>0</td>\n",
       "      <td>0</td>\n",
       "      <td>0</td>\n",
       "      <td>0</td>\n",
       "    </tr>\n",
       "  </tbody>\n",
       "</table>\n",
       "<p>5 rows × 785 columns</p>\n",
       "</div>"
      ],
      "text/plain": [
       "   label  pixel0  pixel1  pixel2  pixel3  pixel4  pixel5  pixel6  pixel7  \\\n",
       "0      1       0       0       0       0       0       0       0       0   \n",
       "1      0       0       0       0       0       0       0       0       0   \n",
       "2      1       0       0       0       0       0       0       0       0   \n",
       "3      4       0       0       0       0       0       0       0       0   \n",
       "4      0       0       0       0       0       0       0       0       0   \n",
       "\n",
       "   pixel8  ...  pixel774  pixel775  pixel776  pixel777  pixel778  pixel779  \\\n",
       "0       0  ...         0         0         0         0         0         0   \n",
       "1       0  ...         0         0         0         0         0         0   \n",
       "2       0  ...         0         0         0         0         0         0   \n",
       "3       0  ...         0         0         0         0         0         0   \n",
       "4       0  ...         0         0         0         0         0         0   \n",
       "\n",
       "   pixel780  pixel781  pixel782  pixel783  \n",
       "0         0         0         0         0  \n",
       "1         0         0         0         0  \n",
       "2         0         0         0         0  \n",
       "3         0         0         0         0  \n",
       "4         0         0         0         0  \n",
       "\n",
       "[5 rows x 785 columns]"
      ]
     },
     "execution_count": 4,
     "metadata": {},
     "output_type": "execute_result"
    }
   ],
   "source": [
    "train.head() "
   ]
  },
  {
   "cell_type": "markdown",
   "metadata": {
    "papermill": {
     "duration": 0.007423,
     "end_time": "2020-08-11T02:00:04.197043",
     "exception": false,
     "start_time": "2020-08-11T02:00:04.189620",
     "status": "completed"
    },
    "tags": []
   },
   "source": [
    "Como pode-se ver acima, cada coluna da linha representa um pixel da imagem, e o número no pixel representa a cor(RGB) dele.\n",
    "\n",
    "OBS: As imagens dos números estão em escala de cinza. "
   ]
  },
  {
   "cell_type": "code",
   "execution_count": 5,
   "metadata": {
    "execution": {
     "iopub.execute_input": "2020-08-11T02:00:04.219278Z",
     "iopub.status.busy": "2020-08-11T02:00:04.218327Z",
     "iopub.status.idle": "2020-08-11T02:00:04.323736Z",
     "shell.execute_reply": "2020-08-11T02:00:04.324235Z"
    },
    "papermill": {
     "duration": 0.119913,
     "end_time": "2020-08-11T02:00:04.324395",
     "exception": false,
     "start_time": "2020-08-11T02:00:04.204482",
     "status": "completed"
    },
    "tags": []
   },
   "outputs": [],
   "source": [
    "X_train = train.iloc[:,1:].values.astype('float32')\n",
    "y_train = train['label'].values.astype('int32')\n",
    "test = test.values.astype('float32')\n",
    "\n",
    "del train"
   ]
  },
  {
   "cell_type": "code",
   "execution_count": 6,
   "metadata": {
    "execution": {
     "iopub.execute_input": "2020-08-11T02:00:04.345199Z",
     "iopub.status.busy": "2020-08-11T02:00:04.344105Z",
     "iopub.status.idle": "2020-08-11T02:00:04.413960Z",
     "shell.execute_reply": "2020-08-11T02:00:04.413394Z"
    },
    "papermill": {
     "duration": 0.081574,
     "end_time": "2020-08-11T02:00:04.414083",
     "exception": false,
     "start_time": "2020-08-11T02:00:04.332509",
     "status": "completed"
    },
    "tags": []
   },
   "outputs": [],
   "source": [
    "X_train = X_train / 255.0 # Normalizando os dados de treino\n",
    "test = test / 255.0 # Normalizando os dados de teste"
   ]
  },
  {
   "cell_type": "code",
   "execution_count": 7,
   "metadata": {
    "execution": {
     "iopub.execute_input": "2020-08-11T02:00:04.436442Z",
     "iopub.status.busy": "2020-08-11T02:00:04.434612Z",
     "iopub.status.idle": "2020-08-11T02:00:04.437086Z",
     "shell.execute_reply": "2020-08-11T02:00:04.437565Z"
    },
    "papermill": {
     "duration": 0.015861,
     "end_time": "2020-08-11T02:00:04.437681",
     "exception": false,
     "start_time": "2020-08-11T02:00:04.421820",
     "status": "completed"
    },
    "tags": []
   },
   "outputs": [],
   "source": [
    "# Converte o dataset de treino para o formato (num_imagens, img_linhas, img_colunas)\n",
    "X_train = X_train.reshape(X_train.shape[0], 28, 28, 1)\n",
    "test = test.reshape(test.shape[0], 28, 28, 1)"
   ]
  },
  {
   "cell_type": "code",
   "execution_count": 8,
   "metadata": {
    "execution": {
     "iopub.execute_input": "2020-08-11T02:00:04.459590Z",
     "iopub.status.busy": "2020-08-11T02:00:04.458729Z",
     "iopub.status.idle": "2020-08-11T02:00:04.462659Z",
     "shell.execute_reply": "2020-08-11T02:00:04.462064Z"
    },
    "papermill": {
     "duration": 0.017408,
     "end_time": "2020-08-11T02:00:04.462757",
     "exception": false,
     "start_time": "2020-08-11T02:00:04.445349",
     "status": "completed"
    },
    "tags": []
   },
   "outputs": [
    {
     "data": {
      "text/plain": [
       "array([1, 0, 1, ..., 7, 6, 9], dtype=int32)"
      ]
     },
     "execution_count": 8,
     "metadata": {},
     "output_type": "execute_result"
    }
   ],
   "source": [
    "y_train"
   ]
  },
  {
   "cell_type": "markdown",
   "metadata": {
    "papermill": {
     "duration": 0.007581,
     "end_time": "2020-08-11T02:00:04.477807",
     "exception": false,
     "start_time": "2020-08-11T02:00:04.470226",
     "status": "completed"
    },
    "tags": []
   },
   "source": [
    "É comum que bases de dados como essa, tenham os resultados das classificações de imagens como mostrado no ultimo código. Entretanto, o algoritmo utilizado lida melhor com outro tipo de dado, por isso, vamos categoriza-lo de uma forma diferente. Nesse caso, usaremos o one-hot encoding:\n",
    "\n",
    "Exemplo:\n",
    "\n",
    "    O que era apenas o número 2 vira um array de zeros no qual o indice 2 do array é igual a 1\n",
    "    2 -> [0,0,1,0,0,0,0,0,0,0]"
   ]
  },
  {
   "cell_type": "code",
   "execution_count": 9,
   "metadata": {
    "execution": {
     "iopub.execute_input": "2020-08-11T02:00:04.497700Z",
     "iopub.status.busy": "2020-08-11T02:00:04.496808Z",
     "iopub.status.idle": "2020-08-11T02:00:04.503332Z",
     "shell.execute_reply": "2020-08-11T02:00:04.503979Z"
    },
    "papermill": {
     "duration": 0.018519,
     "end_time": "2020-08-11T02:00:04.504100",
     "exception": false,
     "start_time": "2020-08-11T02:00:04.485581",
     "status": "completed"
    },
    "tags": []
   },
   "outputs": [
    {
     "data": {
      "text/plain": [
       "array([[0., 1., 0., ..., 0., 0., 0.],\n",
       "       [1., 0., 0., ..., 0., 0., 0.],\n",
       "       [0., 1., 0., ..., 0., 0., 0.],\n",
       "       ...,\n",
       "       [0., 0., 0., ..., 1., 0., 0.],\n",
       "       [0., 0., 0., ..., 0., 0., 0.],\n",
       "       [0., 0., 0., ..., 0., 0., 1.]], dtype=float32)"
      ]
     },
     "execution_count": 9,
     "metadata": {},
     "output_type": "execute_result"
    }
   ],
   "source": [
    "y_train = to_categorical(y_train)\n",
    "y_train"
   ]
  },
  {
   "cell_type": "code",
   "execution_count": 10,
   "metadata": {
    "execution": {
     "iopub.execute_input": "2020-08-11T02:00:04.524355Z",
     "iopub.status.busy": "2020-08-11T02:00:04.523589Z",
     "iopub.status.idle": "2020-08-11T02:00:04.526727Z",
     "shell.execute_reply": "2020-08-11T02:00:04.526243Z"
    },
    "papermill": {
     "duration": 0.014268,
     "end_time": "2020-08-11T02:00:04.526822",
     "exception": false,
     "start_time": "2020-08-11T02:00:04.512554",
     "status": "completed"
    },
    "tags": []
   },
   "outputs": [],
   "source": [
    "np.random.seed(2) #usado para que seja possivel reproduzir a aleatoriedade do experimento com os mesmos resultados"
   ]
  },
  {
   "cell_type": "markdown",
   "metadata": {
    "papermill": {
     "duration": 0.007502,
     "end_time": "2020-08-11T02:00:04.542560",
     "exception": false,
     "start_time": "2020-08-11T02:00:04.535058",
     "status": "completed"
    },
    "tags": []
   },
   "source": [
    "Agora, vamos separar o conjunto de dados entre a parte que sera usada para treinar o modelo e a parte de teste, que sera utilizada para descobrirmos o quão bom o modelo é, antes de submetelo na Competição."
   ]
  },
  {
   "cell_type": "code",
   "execution_count": 11,
   "metadata": {
    "execution": {
     "iopub.execute_input": "2020-08-11T02:00:04.564554Z",
     "iopub.status.busy": "2020-08-11T02:00:04.562756Z",
     "iopub.status.idle": "2020-08-11T02:00:04.877612Z",
     "shell.execute_reply": "2020-08-11T02:00:04.878223Z"
    },
    "papermill": {
     "duration": 0.327992,
     "end_time": "2020-08-11T02:00:04.878401",
     "exception": false,
     "start_time": "2020-08-11T02:00:04.550409",
     "status": "completed"
    },
    "tags": []
   },
   "outputs": [],
   "source": [
    "X_train, X_test, y_train, y_test = train_test_split(X_train, y_train, test_size = 0.1, random_state = 2)"
   ]
  },
  {
   "cell_type": "markdown",
   "metadata": {
    "papermill": {
     "duration": 0.00798,
     "end_time": "2020-08-11T02:00:04.894859",
     "exception": false,
     "start_time": "2020-08-11T02:00:04.886879",
     "status": "completed"
    },
    "tags": []
   },
   "source": [
    "# Rede Neural Covolucional\n",
    "\n",
    "Quando se trata de imagens, as CNN(Covolutional Neural Network) ganham destaque. Isso ocorre pois, se utiliza de forma correta, esse modelo tende a ter um dos melhores indices de acerto na classificação de imagens.\n",
    "\n",
    "**Assim, no modelo abaixo:**\n",
    "\n",
    "1. Começamos com camadas de Convolução que recebem a imagem e aplicam filtros nela.\n",
    "2. Colocamos a camada de pooling, a qual reduz as dimenções dos dados .\n",
    "3. A camada de Dropout, simplesmente exclui parte do processamento na imagem até o momento. Ela é necessária para minimizar a possibilidade de superajustamento aos dados de treino.\n",
    "\n",
    "\n",
    "4. Depois todas as camadas anteriores são repetidas para uma melhor performance.\n",
    "\n",
    "\n",
    "5. A camada de Flattening, transforma os dados(que até então eram matrizes) em vetores, para que as camadas Densas consigam processar os dados.\n",
    "6. A primeira camada Densa possui 256 \"neurônios\", que processam o dado e manda para a ultima camada.\n",
    "7. Essa ultima camada possui 10 \"neûronios\" pois é a quantidade de saidas(os números de 0 á 9) que precisamos."
   ]
  },
  {
   "cell_type": "markdown",
   "metadata": {
    "papermill": {
     "duration": 0.007963,
     "end_time": "2020-08-11T02:00:04.910658",
     "exception": false,
     "start_time": "2020-08-11T02:00:04.902695",
     "status": "completed"
    },
    "tags": []
   },
   "source": [
    " Keras é uma biblioteca desenvolvida pela google que possui ótimas funções a serem ultilizadas \n",
    " em algoritimos de aprendizado de maquina "
   ]
  },
  {
   "cell_type": "code",
   "execution_count": 12,
   "metadata": {
    "execution": {
     "iopub.execute_input": "2020-08-11T02:00:04.938492Z",
     "iopub.status.busy": "2020-08-11T02:00:04.937860Z",
     "iopub.status.idle": "2020-08-11T02:00:08.498631Z",
     "shell.execute_reply": "2020-08-11T02:00:08.497742Z"
    },
    "papermill": {
     "duration": 3.579918,
     "end_time": "2020-08-11T02:00:08.498750",
     "exception": false,
     "start_time": "2020-08-11T02:00:04.918832",
     "status": "completed"
    },
    "tags": []
   },
   "outputs": [],
   "source": [
    "model = Sequential()\n",
    "\n",
    "model.add(Conv2D(filters = 64, kernel_size = (5,5), padding = 'Same', activation = 'relu', input_shape = (28,28,1)))\n",
    "model.add(Conv2D(filters = 64, kernel_size = (5,5), padding = 'Same', activation = 'relu'))\n",
    "model.add(MaxPool2D(pool_size=(2,2)))\n",
    "model.add(Dropout(0.2))\n",
    "\n",
    "model.add(Conv2D(filters = 128, kernel_size = (3,3), padding = 'Same', activation = 'relu'))\n",
    "model.add(Conv2D(filters = 128, kernel_size = (3,3), padding = 'Same', activation = 'relu'))\n",
    "model.add(MaxPool2D(pool_size=(2,2), strides=(2,2)))\n",
    "model.add(Dropout(0.2))\n",
    "\n",
    "\n",
    "model.add(Flatten())\n",
    "model.add(Dense(512, activation = 'relu'))\n",
    "model.add(Dropout(0.2))\n",
    "model.add(Dense(10, activation = 'softmax'))"
   ]
  },
  {
   "cell_type": "code",
   "execution_count": 13,
   "metadata": {
    "execution": {
     "iopub.execute_input": "2020-08-11T02:00:08.534723Z",
     "iopub.status.busy": "2020-08-11T02:00:08.532612Z",
     "iopub.status.idle": "2020-08-11T02:00:08.542025Z",
     "shell.execute_reply": "2020-08-11T02:00:08.541039Z"
    },
    "papermill": {
     "duration": 0.034843,
     "end_time": "2020-08-11T02:00:08.542129",
     "exception": false,
     "start_time": "2020-08-11T02:00:08.507286",
     "status": "completed"
    },
    "tags": []
   },
   "outputs": [],
   "source": [
    "# Colocamos como metrica de acerto: acurácia\n",
    "# Função de perda(exibe o quanto o algoritimo esta errado): categorical_crossentropy\n",
    "# optimizer: adam (um dos melhores optimizadores atualmente)\n",
    "model.compile(optimizer=\"adam\", loss='categorical_crossentropy', metrics=['accuracy'])"
   ]
  },
  {
   "cell_type": "code",
   "execution_count": 14,
   "metadata": {
    "execution": {
     "iopub.execute_input": "2020-08-11T02:00:08.564847Z",
     "iopub.status.busy": "2020-08-11T02:00:08.563072Z",
     "iopub.status.idle": "2020-08-11T02:00:08.565872Z",
     "shell.execute_reply": "2020-08-11T02:00:08.566365Z"
    },
    "papermill": {
     "duration": 0.015717,
     "end_time": "2020-08-11T02:00:08.566485",
     "exception": false,
     "start_time": "2020-08-11T02:00:08.550768",
     "status": "completed"
    },
    "tags": []
   },
   "outputs": [],
   "source": [
    "epochs = 38 # Número epocas do modelo\n",
    "batch_size = 64 "
   ]
  },
  {
   "cell_type": "markdown",
   "metadata": {
    "papermill": {
     "duration": 0.008145,
     "end_time": "2020-08-11T02:00:08.582978",
     "exception": false,
     "start_time": "2020-08-11T02:00:08.574833",
     "status": "completed"
    },
    "tags": []
   },
   "source": [
    "# Aumento de Dados\n",
    "   Essa tecnica pode ser utilizada para aumentar a quantidade de dados de forma artificial. No codigo abaixo, por exemplo, essa tecnica foi empregada pegando os dados das imagens originais do dataset, e gerando novas imagens modificadas.\n",
    "\n",
    "**Caracteristicas modificadas:**\n",
    "* Zoom da imagem\n",
    "* Inclinação/rotação da imagem(Nesse caso, temos que tomar cuidado com a rotação pois o número 6 pode ser confundido com o 9 ou o contrário)\n",
    "* Centro da imagem\n",
    "* Largura\n",
    "* Altura"
   ]
  },
  {
   "cell_type": "code",
   "execution_count": 15,
   "metadata": {
    "execution": {
     "iopub.execute_input": "2020-08-11T02:00:08.609226Z",
     "iopub.status.busy": "2020-08-11T02:00:08.607963Z",
     "iopub.status.idle": "2020-08-11T02:00:08.654337Z",
     "shell.execute_reply": "2020-08-11T02:00:08.653599Z"
    },
    "papermill": {
     "duration": 0.062223,
     "end_time": "2020-08-11T02:00:08.654451",
     "exception": false,
     "start_time": "2020-08-11T02:00:08.592228",
     "status": "completed"
    },
    "tags": []
   },
   "outputs": [],
   "source": [
    "datagen = ImageDataGenerator(featurewise_center=False,\n",
    "                            samplewise_center=False,\n",
    "                            featurewise_std_normalization=False,\n",
    "                            samplewise_std_normalization=False,\n",
    "                            zca_whitening=False,\n",
    "                            rotation_range=10,\n",
    "                            zoom_range=0.1,\n",
    "                            width_shift_range=0.1,\n",
    "                            height_shift_range=0.1,\n",
    "                            horizontal_flip=False,\n",
    "                            vertical_flip=False)\n",
    "datagen.fit(X_train)"
   ]
  },
  {
   "cell_type": "code",
   "execution_count": 16,
   "metadata": {
    "execution": {
     "iopub.execute_input": "2020-08-11T02:00:08.679314Z",
     "iopub.status.busy": "2020-08-11T02:00:08.674616Z",
     "iopub.status.idle": "2020-08-11T02:08:26.394878Z",
     "shell.execute_reply": "2020-08-11T02:08:26.395445Z"
    },
    "papermill": {
     "duration": 497.731915,
     "end_time": "2020-08-11T02:08:26.395610",
     "exception": false,
     "start_time": "2020-08-11T02:00:08.663695",
     "status": "completed"
    },
    "tags": []
   },
   "outputs": [
    {
     "name": "stdout",
     "output_type": "stream",
     "text": [
      "Epoch 1/38\n",
      "590/590 - 13s - loss: 0.2475 - accuracy: 0.9215 - val_loss: 0.0489 - val_accuracy: 0.9838\n",
      "Epoch 2/38\n",
      "590/590 - 13s - loss: 0.0833 - accuracy: 0.9752 - val_loss: 0.0357 - val_accuracy: 0.9898\n",
      "Epoch 3/38\n",
      "590/590 - 12s - loss: 0.0636 - accuracy: 0.9806 - val_loss: 0.0380 - val_accuracy: 0.9907\n",
      "Epoch 4/38\n",
      "590/590 - 13s - loss: 0.0517 - accuracy: 0.9849 - val_loss: 0.0370 - val_accuracy: 0.9898\n",
      "Epoch 5/38\n",
      "590/590 - 14s - loss: 0.0471 - accuracy: 0.9857 - val_loss: 0.0257 - val_accuracy: 0.9924\n",
      "Epoch 6/38\n",
      "590/590 - 13s - loss: 0.0426 - accuracy: 0.9874 - val_loss: 0.0341 - val_accuracy: 0.9912\n",
      "Epoch 7/38\n",
      "590/590 - 13s - loss: 0.0393 - accuracy: 0.9883 - val_loss: 0.0267 - val_accuracy: 0.9919\n",
      "Epoch 8/38\n",
      "590/590 - 12s - loss: 0.0394 - accuracy: 0.9883 - val_loss: 0.0180 - val_accuracy: 0.9952\n",
      "Epoch 9/38\n",
      "590/590 - 13s - loss: 0.0335 - accuracy: 0.9899 - val_loss: 0.0164 - val_accuracy: 0.9950\n",
      "Epoch 10/38\n",
      "590/590 - 13s - loss: 0.0314 - accuracy: 0.9911 - val_loss: 0.0221 - val_accuracy: 0.9926\n",
      "Epoch 11/38\n",
      "590/590 - 12s - loss: 0.0288 - accuracy: 0.9917 - val_loss: 0.0141 - val_accuracy: 0.9948\n",
      "Epoch 12/38\n",
      "590/590 - 13s - loss: 0.0302 - accuracy: 0.9906 - val_loss: 0.0265 - val_accuracy: 0.9912\n",
      "Epoch 13/38\n",
      "590/590 - 13s - loss: 0.0281 - accuracy: 0.9918 - val_loss: 0.0223 - val_accuracy: 0.9926\n",
      "Epoch 14/38\n",
      "590/590 - 14s - loss: 0.0269 - accuracy: 0.9917 - val_loss: 0.0191 - val_accuracy: 0.9936\n",
      "Epoch 15/38\n",
      "590/590 - 13s - loss: 0.0255 - accuracy: 0.9918 - val_loss: 0.0179 - val_accuracy: 0.9945\n",
      "Epoch 16/38\n",
      "590/590 - 13s - loss: 0.0238 - accuracy: 0.9926 - val_loss: 0.0228 - val_accuracy: 0.9943\n",
      "Epoch 17/38\n",
      "590/590 - 13s - loss: 0.0244 - accuracy: 0.9925 - val_loss: 0.0299 - val_accuracy: 0.9943\n",
      "Epoch 18/38\n",
      "590/590 - 13s - loss: 0.0254 - accuracy: 0.9921 - val_loss: 0.0217 - val_accuracy: 0.9948\n",
      "Epoch 19/38\n",
      "590/590 - 14s - loss: 0.0208 - accuracy: 0.9933 - val_loss: 0.0154 - val_accuracy: 0.9948\n",
      "Epoch 20/38\n",
      "590/590 - 13s - loss: 0.0226 - accuracy: 0.9935 - val_loss: 0.0168 - val_accuracy: 0.9943\n",
      "Epoch 21/38\n",
      "590/590 - 13s - loss: 0.0206 - accuracy: 0.9931 - val_loss: 0.0198 - val_accuracy: 0.9940\n",
      "Epoch 22/38\n",
      "590/590 - 13s - loss: 0.0210 - accuracy: 0.9940 - val_loss: 0.0190 - val_accuracy: 0.9945\n",
      "Epoch 23/38\n",
      "590/590 - 13s - loss: 0.0217 - accuracy: 0.9934 - val_loss: 0.0237 - val_accuracy: 0.9940\n",
      "Epoch 24/38\n",
      "590/590 - 14s - loss: 0.0211 - accuracy: 0.9934 - val_loss: 0.0155 - val_accuracy: 0.9950\n",
      "Epoch 25/38\n",
      "590/590 - 13s - loss: 0.0191 - accuracy: 0.9936 - val_loss: 0.0183 - val_accuracy: 0.9952\n",
      "Epoch 26/38\n",
      "590/590 - 13s - loss: 0.0201 - accuracy: 0.9938 - val_loss: 0.0211 - val_accuracy: 0.9929\n",
      "Epoch 27/38\n",
      "590/590 - 13s - loss: 0.0196 - accuracy: 0.9943 - val_loss: 0.0275 - val_accuracy: 0.9936\n",
      "Epoch 28/38\n",
      "590/590 - 14s - loss: 0.0200 - accuracy: 0.9940 - val_loss: 0.0285 - val_accuracy: 0.9948\n",
      "Epoch 29/38\n",
      "590/590 - 13s - loss: 0.0164 - accuracy: 0.9949 - val_loss: 0.0265 - val_accuracy: 0.9931\n",
      "Epoch 30/38\n",
      "590/590 - 13s - loss: 0.0181 - accuracy: 0.9946 - val_loss: 0.0281 - val_accuracy: 0.9940\n",
      "Epoch 31/38\n",
      "590/590 - 13s - loss: 0.0189 - accuracy: 0.9944 - val_loss: 0.0310 - val_accuracy: 0.9924\n",
      "Epoch 32/38\n",
      "590/590 - 13s - loss: 0.0202 - accuracy: 0.9940 - val_loss: 0.0187 - val_accuracy: 0.9943\n",
      "Epoch 33/38\n",
      "590/590 - 13s - loss: 0.0186 - accuracy: 0.9944 - val_loss: 0.0167 - val_accuracy: 0.9955\n",
      "Epoch 34/38\n",
      "590/590 - 13s - loss: 0.0157 - accuracy: 0.9950 - val_loss: 0.0215 - val_accuracy: 0.9948\n",
      "Epoch 35/38\n",
      "590/590 - 13s - loss: 0.0183 - accuracy: 0.9945 - val_loss: 0.0362 - val_accuracy: 0.9919\n",
      "Epoch 36/38\n",
      "590/590 - 13s - loss: 0.0187 - accuracy: 0.9942 - val_loss: 0.0241 - val_accuracy: 0.9950\n",
      "Epoch 37/38\n",
      "590/590 - 13s - loss: 0.0180 - accuracy: 0.9945 - val_loss: 0.0184 - val_accuracy: 0.9948\n",
      "Epoch 38/38\n",
      "590/590 - 13s - loss: 0.0168 - accuracy: 0.9944 - val_loss: 0.0231 - val_accuracy: 0.9948\n"
     ]
    }
   ],
   "source": [
    "# Ajusta e Treina o modelo\n",
    "history = model.fit_generator(datagen.flow(X_train,y_train, batch_size=batch_size),\n",
    "                              epochs = epochs, validation_data = (X_test,y_test),\n",
    "                              verbose = 2, steps_per_epoch=X_train.shape[0] // batch_size)"
   ]
  },
  {
   "cell_type": "code",
   "execution_count": 17,
   "metadata": {
    "execution": {
     "iopub.execute_input": "2020-08-11T02:08:26.425838Z",
     "iopub.status.busy": "2020-08-11T02:08:26.424727Z",
     "iopub.status.idle": "2020-08-11T02:08:27.852303Z",
     "shell.execute_reply": "2020-08-11T02:08:27.851582Z"
    },
    "papermill": {
     "duration": 1.44482,
     "end_time": "2020-08-11T02:08:27.852424",
     "exception": false,
     "start_time": "2020-08-11T02:08:26.407604",
     "status": "completed"
    },
    "tags": []
   },
   "outputs": [],
   "source": [
    "# Usa o modelo treinado para prever e classificar os dados sem classificação\n",
    "# nesse caso, os dados que serão submetidos na competição.\n",
    "results = model.predict(test) \n",
    "\n",
    "# O algoritimo retorna uma lista de probabilidades pra cada número"
   ]
  },
  {
   "cell_type": "code",
   "execution_count": 18,
   "metadata": {
    "execution": {
     "iopub.execute_input": "2020-08-11T02:08:27.882083Z",
     "iopub.status.busy": "2020-08-11T02:08:27.881258Z",
     "iopub.status.idle": "2020-08-11T02:08:27.885735Z",
     "shell.execute_reply": "2020-08-11T02:08:27.886221Z"
    },
    "papermill": {
     "duration": 0.02146,
     "end_time": "2020-08-11T02:08:27.886351",
     "exception": false,
     "start_time": "2020-08-11T02:08:27.864891",
     "status": "completed"
    },
    "tags": []
   },
   "outputs": [],
   "source": [
    "# Seleciona os indices com maior probabilidade\n",
    "results = np.argmax(results,axis = 1)\n",
    "\n",
    "results = pd.Series(results,name=\"Label\")"
   ]
  },
  {
   "cell_type": "code",
   "execution_count": 19,
   "metadata": {
    "_cell_guid": "79c7e3d0-c299-4dcb-8224-4455121ee9b0",
    "_uuid": "d629ff2d2480ee46fbb7e2d37f6b5fab8052498a",
    "execution": {
     "iopub.execute_input": "2020-08-11T02:08:27.917116Z",
     "iopub.status.busy": "2020-08-11T02:08:27.916298Z",
     "iopub.status.idle": "2020-08-11T02:08:27.927476Z",
     "shell.execute_reply": "2020-08-11T02:08:27.927947Z"
    },
    "papermill": {
     "duration": 0.029619,
     "end_time": "2020-08-11T02:08:27.928058",
     "exception": false,
     "start_time": "2020-08-11T02:08:27.898439",
     "status": "completed"
    },
    "tags": []
   },
   "outputs": [
    {
     "data": {
      "text/html": [
       "<div>\n",
       "<style scoped>\n",
       "    .dataframe tbody tr th:only-of-type {\n",
       "        vertical-align: middle;\n",
       "    }\n",
       "\n",
       "    .dataframe tbody tr th {\n",
       "        vertical-align: top;\n",
       "    }\n",
       "\n",
       "    .dataframe thead th {\n",
       "        text-align: right;\n",
       "    }\n",
       "</style>\n",
       "<table border=\"1\" class=\"dataframe\">\n",
       "  <thead>\n",
       "    <tr style=\"text-align: right;\">\n",
       "      <th></th>\n",
       "      <th>ImageId</th>\n",
       "      <th>Label</th>\n",
       "    </tr>\n",
       "  </thead>\n",
       "  <tbody>\n",
       "    <tr>\n",
       "      <th>0</th>\n",
       "      <td>1</td>\n",
       "      <td>2</td>\n",
       "    </tr>\n",
       "    <tr>\n",
       "      <th>1</th>\n",
       "      <td>2</td>\n",
       "      <td>0</td>\n",
       "    </tr>\n",
       "    <tr>\n",
       "      <th>2</th>\n",
       "      <td>3</td>\n",
       "      <td>9</td>\n",
       "    </tr>\n",
       "    <tr>\n",
       "      <th>3</th>\n",
       "      <td>4</td>\n",
       "      <td>0</td>\n",
       "    </tr>\n",
       "    <tr>\n",
       "      <th>4</th>\n",
       "      <td>5</td>\n",
       "      <td>3</td>\n",
       "    </tr>\n",
       "    <tr>\n",
       "      <th>...</th>\n",
       "      <td>...</td>\n",
       "      <td>...</td>\n",
       "    </tr>\n",
       "    <tr>\n",
       "      <th>27995</th>\n",
       "      <td>27996</td>\n",
       "      <td>9</td>\n",
       "    </tr>\n",
       "    <tr>\n",
       "      <th>27996</th>\n",
       "      <td>27997</td>\n",
       "      <td>7</td>\n",
       "    </tr>\n",
       "    <tr>\n",
       "      <th>27997</th>\n",
       "      <td>27998</td>\n",
       "      <td>3</td>\n",
       "    </tr>\n",
       "    <tr>\n",
       "      <th>27998</th>\n",
       "      <td>27999</td>\n",
       "      <td>9</td>\n",
       "    </tr>\n",
       "    <tr>\n",
       "      <th>27999</th>\n",
       "      <td>28000</td>\n",
       "      <td>2</td>\n",
       "    </tr>\n",
       "  </tbody>\n",
       "</table>\n",
       "<p>28000 rows × 2 columns</p>\n",
       "</div>"
      ],
      "text/plain": [
       "       ImageId  Label\n",
       "0            1      2\n",
       "1            2      0\n",
       "2            3      9\n",
       "3            4      0\n",
       "4            5      3\n",
       "...        ...    ...\n",
       "27995    27996      9\n",
       "27996    27997      7\n",
       "27997    27998      3\n",
       "27998    27999      9\n",
       "27999    28000      2\n",
       "\n",
       "[28000 rows x 2 columns]"
      ]
     },
     "execution_count": 19,
     "metadata": {},
     "output_type": "execute_result"
    }
   ],
   "source": [
    "# Gera um dataframe com o Id e a resposta de cada imagem\n",
    "output = pd.concat([pd.Series(range(1,28001), name = 'ImageId'), results], axis = 1)\n",
    "output"
   ]
  },
  {
   "cell_type": "code",
   "execution_count": 20,
   "metadata": {
    "execution": {
     "iopub.execute_input": "2020-08-11T02:08:27.956985Z",
     "iopub.status.busy": "2020-08-11T02:08:27.956129Z",
     "iopub.status.idle": "2020-08-11T02:08:28.067448Z",
     "shell.execute_reply": "2020-08-11T02:08:28.066801Z"
    },
    "papermill": {
     "duration": 0.127273,
     "end_time": "2020-08-11T02:08:28.067585",
     "exception": false,
     "start_time": "2020-08-11T02:08:27.940312",
     "status": "completed"
    },
    "tags": []
   },
   "outputs": [],
   "source": [
    "#Para finalizar, vamos gerar um aquivo csv a partir do dataframe.\n",
    "output.to_csv('submission.csv', index=False)"
   ]
  },
  {
   "cell_type": "markdown",
   "metadata": {
    "papermill": {
     "duration": 0.012302,
     "end_time": "2020-08-11T02:08:28.092812",
     "exception": false,
     "start_time": "2020-08-11T02:08:28.080510",
     "status": "completed"
    },
    "tags": []
   },
   "source": [
    "# Fontes:\n",
    "\n",
    "* https://keras.io/\n",
    "* https://www.kaggle.com/yassineghouzam/introduction-to-cnn-keras-0-997-top-6\n",
    "* https://www.kaggle.com/elcaiseri/mnist-simple-cnn-keras-accuracy-0-99-top-1"
   ]
  }
 ],
 "metadata": {
  "kernelspec": {
   "display_name": "Python 3",
   "language": "python",
   "name": "python3"
  },
  "language_info": {
   "codemirror_mode": {
    "name": "ipython",
    "version": 3
   },
   "file_extension": ".py",
   "mimetype": "text/x-python",
   "name": "python",
   "nbconvert_exporter": "python",
   "pygments_lexer": "ipython3",
   "version": "3.7.7"
  },
  "papermill": {
   "duration": 519.903109,
   "end_time": "2020-08-11T02:08:29.793483",
   "environment_variables": {},
   "exception": null,
   "input_path": "__notebook__.ipynb",
   "output_path": "__notebook__.ipynb",
   "parameters": {},
   "start_time": "2020-08-11T01:59:49.890374",
   "version": "2.1.0"
  }
 },
 "nbformat": 4,
 "nbformat_minor": 4
}
